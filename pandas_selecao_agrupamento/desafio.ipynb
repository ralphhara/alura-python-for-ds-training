{
 "cells": [
  {
   "cell_type": "markdown",
   "metadata": {},
   "source": [
    "### Desafio: Hora da Pratica\n",
    "\n",
    "Chegou o momento de praticar! Vamos aplicar os conceitos aprendidos durante a aula a partir de algumas atividades. Solucione os problemas propostos através de códigos utilizando a base de dados disponibilizada no curso.\n",
    "\n",
    "1) Encontre os valores únicos das colunas \"Nível 1 - Setor\" e \"Estado\" para identificar as atividades econômicas presentes na base de dados e se todos os Estados do Brasil estão presentes no DataFrame.\n",
    "\n",
    "2) Filtre o DataFrame somente com os dados dos Estados da região Sul do Brasil.\n",
    "\n",
    "3) Filtre o DataFrame somente com os dados de \"Mudança de Uso da Terra e Floresta\" que sejam do Estado do Amazonas.\n",
    "\n",
    "4) Encontre o valor máximo de emissão do ano de 2021 para os dados de \"Agropecuária\" no Estado do Pará.\n",
    "\n",
    "Caso precise de ajuda, opções de solução das atividades estarão disponíveis na seção “Opinião da pessoa instrutora”."
   ]
  },
  {
   "cell_type": "code",
   "execution_count": 1,
   "metadata": {},
   "outputs": [],
   "source": [
    "import pandas as pd"
   ]
  },
  {
   "cell_type": "code",
   "execution_count": 3,
   "metadata": {},
   "outputs": [
    {
     "data": {
      "text/plain": [
       "['Leia antes',\n",
       " 'Dados',\n",
       " 'Consulta Série Histórica',\n",
       " 'Consulta Estados 2022',\n",
       " 'Consulta Biomas 2022']"
      ]
     },
     "execution_count": 3,
     "metadata": {},
     "output_type": "execute_result"
    }
   ],
   "source": [
    "pd.ExcelFile('C:\\\\Users\\RalphHara\\\\OneDrive\\\\Documents\\\\Ralph\\\\Education\\\\Data Science\\\\alura-python-for-ds-training\\\\pandas_selecao_agrupamento\\\\SEEG11.1-DADOS-NACIONAIS.xlsx').sheet_names"
   ]
  },
  {
   "cell_type": "code",
   "execution_count": 5,
   "metadata": {},
   "outputs": [],
   "source": [
    "dados = pd.read_excel('C:\\\\Users\\RalphHara\\\\OneDrive\\\\Documents\\\\Ralph\\\\Education\\\\Data Science\\\\alura-python-for-ds-training\\\\pandas_selecao_agrupamento\\\\SEEG11.1-DADOS-NACIONAIS.xlsx', sheet_name='Dados')"
   ]
  },
  {
   "cell_type": "code",
   "execution_count": 6,
   "metadata": {},
   "outputs": [
    {
     "name": "stdout",
     "output_type": "stream",
     "text": [
      "<class 'pandas.core.frame.DataFrame'>\n",
      "RangeIndex: 309506 entries, 0 to 309505\n",
      "Data columns (total 64 columns):\n",
      " #   Column                  Non-Null Count   Dtype  \n",
      "---  ------                  --------------   -----  \n",
      " 0   Emissão/Remoção/Bunker  309506 non-null  object \n",
      " 1   Gás                     309506 non-null  object \n",
      " 2   Setor de emissão        309506 non-null  object \n",
      " 3   Categoria emissora      309506 non-null  object \n",
      " 4   Sub-categoria emissora  309506 non-null  object \n",
      " 5   Produto ou sistema      309506 non-null  object \n",
      " 6   Detalhamento            309506 non-null  object \n",
      " 7   Recorte                 279866 non-null  object \n",
      " 8   Atividade geral         309506 non-null  object \n",
      " 9   Estado                  303341 non-null  object \n",
      " 10  Bioma                   271725 non-null  object \n",
      " 11  1970                    309281 non-null  float64\n",
      " 12  1971                    309281 non-null  float64\n",
      " 13  1972                    309281 non-null  float64\n",
      " 14  1973                    309281 non-null  float64\n",
      " 15  1974                    309506 non-null  float64\n",
      " 16  1975                    309506 non-null  float64\n",
      " 17  1976                    309506 non-null  float64\n",
      " 18  1977                    309506 non-null  float64\n",
      " 19  1978                    309506 non-null  float64\n",
      " 20  1979                    309506 non-null  float64\n",
      " 21  1980                    309506 non-null  float64\n",
      " 22  1981                    309506 non-null  float64\n",
      " 23  1982                    309506 non-null  float64\n",
      " 24  1983                    309506 non-null  float64\n",
      " 25  1984                    309506 non-null  float64\n",
      " 26  1985                    309506 non-null  float64\n",
      " 27  1986                    309506 non-null  float64\n",
      " 28  1987                    309506 non-null  float64\n",
      " 29  1988                    309506 non-null  float64\n",
      " 30  1989                    309506 non-null  float64\n",
      " 31  1990                    309461 non-null  float64\n",
      " 32  1991                    309506 non-null  float64\n",
      " 33  1992                    309506 non-null  float64\n",
      " 34  1993                    309506 non-null  float64\n",
      " 35  1994                    309461 non-null  float64\n",
      " 36  1995                    309461 non-null  float64\n",
      " 37  1996                    309461 non-null  float64\n",
      " 38  1997                    309461 non-null  float64\n",
      " 39  1998                    309506 non-null  float64\n",
      " 40  1999                    309506 non-null  float64\n",
      " 41  2000                    309506 non-null  float64\n",
      " 42  2001                    309506 non-null  float64\n",
      " 43  2002                    309506 non-null  float64\n",
      " 44  2003                    309506 non-null  float64\n",
      " 45  2004                    309506 non-null  float64\n",
      " 46  2005                    309506 non-null  float64\n",
      " 47  2006                    309506 non-null  float64\n",
      " 48  2007                    309506 non-null  float64\n",
      " 49  2008                    309505 non-null  float64\n",
      " 50  2009                    309506 non-null  float64\n",
      " 51  2010                    309506 non-null  float64\n",
      " 52  2011                    309506 non-null  float64\n",
      " 53  2012                    309505 non-null  float64\n",
      " 54  2013                    309506 non-null  float64\n",
      " 55  2014                    309506 non-null  float64\n",
      " 56  2015                    309506 non-null  float64\n",
      " 57  2016                    309506 non-null  float64\n",
      " 58  2017                    309506 non-null  float64\n",
      " 59  2018                    309506 non-null  float64\n",
      " 60  2019                    309506 non-null  float64\n",
      " 61  2020                    309506 non-null  float64\n",
      " 62  2021                    309506 non-null  float64\n",
      " 63  2022                    309506 non-null  float64\n",
      "dtypes: float64(53), object(11)\n",
      "memory usage: 151.1+ MB\n"
     ]
    }
   ],
   "source": [
    "dados.info()"
   ]
  },
  {
   "cell_type": "code",
   "execution_count": 7,
   "metadata": {},
   "outputs": [
    {
     "data": {
      "text/plain": [
       "array(['Emissão', 'Remoção NCI', 'Emissão NCI', 'Bunker', 'Remoção'],\n",
       "      dtype=object)"
      ]
     },
     "execution_count": 7,
     "metadata": {},
     "output_type": "execute_result"
    }
   ],
   "source": [
    "dados['Emissão/Remoção/Bunker'].unique()"
   ]
  },
  {
   "cell_type": "code",
   "execution_count": 8,
   "metadata": {},
   "outputs": [],
   "source": [
    "dados = dados[dados['Emissão/Remoção/Bunker'] == 'Emissão']"
   ]
  },
  {
   "cell_type": "code",
   "execution_count": 9,
   "metadata": {},
   "outputs": [
    {
     "data": {
      "text/plain": [
       "array(['Emissão'], dtype=object)"
      ]
     },
     "execution_count": 9,
     "metadata": {},
     "output_type": "execute_result"
    }
   ],
   "source": [
    "dados['Emissão/Remoção/Bunker'].unique()"
   ]
  },
  {
   "cell_type": "code",
   "execution_count": 10,
   "metadata": {},
   "outputs": [],
   "source": [
    "dados = dados.drop(columns='Emissão/Remoção/Bunker')"
   ]
  },
  {
   "cell_type": "code",
   "execution_count": 11,
   "metadata": {},
   "outputs": [
    {
     "name": "stdout",
     "output_type": "stream",
     "text": [
      "<class 'pandas.core.frame.DataFrame'>\n",
      "Index: 281055 entries, 0 to 309505\n",
      "Data columns (total 63 columns):\n",
      " #   Column                  Non-Null Count   Dtype  \n",
      "---  ------                  --------------   -----  \n",
      " 0   Gás                     281055 non-null  object \n",
      " 1   Setor de emissão        281055 non-null  object \n",
      " 2   Categoria emissora      281055 non-null  object \n",
      " 3   Sub-categoria emissora  281055 non-null  object \n",
      " 4   Produto ou sistema      281055 non-null  object \n",
      " 5   Detalhamento            281055 non-null  object \n",
      " 6   Recorte                 251415 non-null  object \n",
      " 7   Atividade geral         281055 non-null  object \n",
      " 8   Estado                  274932 non-null  object \n",
      " 9   Bioma                   245017 non-null  object \n",
      " 10  1970                    280830 non-null  float64\n",
      " 11  1971                    280830 non-null  float64\n",
      " 12  1972                    280830 non-null  float64\n",
      " 13  1973                    280830 non-null  float64\n",
      " 14  1974                    281055 non-null  float64\n",
      " 15  1975                    281055 non-null  float64\n",
      " 16  1976                    281055 non-null  float64\n",
      " 17  1977                    281055 non-null  float64\n",
      " 18  1978                    281055 non-null  float64\n",
      " 19  1979                    281055 non-null  float64\n",
      " 20  1980                    281055 non-null  float64\n",
      " 21  1981                    281055 non-null  float64\n",
      " 22  1982                    281055 non-null  float64\n",
      " 23  1983                    281055 non-null  float64\n",
      " 24  1984                    281055 non-null  float64\n",
      " 25  1985                    281055 non-null  float64\n",
      " 26  1986                    281055 non-null  float64\n",
      " 27  1987                    281055 non-null  float64\n",
      " 28  1988                    281055 non-null  float64\n",
      " 29  1989                    281055 non-null  float64\n",
      " 30  1990                    281010 non-null  float64\n",
      " 31  1991                    281055 non-null  float64\n",
      " 32  1992                    281055 non-null  float64\n",
      " 33  1993                    281055 non-null  float64\n",
      " 34  1994                    281010 non-null  float64\n",
      " 35  1995                    281010 non-null  float64\n",
      " 36  1996                    281010 non-null  float64\n",
      " 37  1997                    281010 non-null  float64\n",
      " 38  1998                    281055 non-null  float64\n",
      " 39  1999                    281055 non-null  float64\n",
      " 40  2000                    281055 non-null  float64\n",
      " 41  2001                    281055 non-null  float64\n",
      " 42  2002                    281055 non-null  float64\n",
      " 43  2003                    281055 non-null  float64\n",
      " 44  2004                    281055 non-null  float64\n",
      " 45  2005                    281055 non-null  float64\n",
      " 46  2006                    281055 non-null  float64\n",
      " 47  2007                    281055 non-null  float64\n",
      " 48  2008                    281054 non-null  float64\n",
      " 49  2009                    281055 non-null  float64\n",
      " 50  2010                    281055 non-null  float64\n",
      " 51  2011                    281055 non-null  float64\n",
      " 52  2012                    281054 non-null  float64\n",
      " 53  2013                    281055 non-null  float64\n",
      " 54  2014                    281055 non-null  float64\n",
      " 55  2015                    281055 non-null  float64\n",
      " 56  2016                    281055 non-null  float64\n",
      " 57  2017                    281055 non-null  float64\n",
      " 58  2018                    281055 non-null  float64\n",
      " 59  2019                    281055 non-null  float64\n",
      " 60  2020                    281055 non-null  float64\n",
      " 61  2021                    281055 non-null  float64\n",
      " 62  2022                    281055 non-null  float64\n",
      "dtypes: float64(53), object(10)\n",
      "memory usage: 137.2+ MB\n"
     ]
    }
   ],
   "source": [
    "dados.info()"
   ]
  },
  {
   "cell_type": "code",
   "execution_count": 14,
   "metadata": {},
   "outputs": [
    {
     "data": {
      "text/plain": [
       "array(['Agropecuária', 'Energia', 'Mudança de Uso da Terra e Floresta',\n",
       "       'Processos Industriais', 'Resíduos'], dtype=object)"
      ]
     },
     "execution_count": 14,
     "metadata": {},
     "output_type": "execute_result"
    }
   ],
   "source": [
    "dados['Setor de emissão'].unique()"
   ]
  },
  {
   "cell_type": "code",
   "execution_count": 17,
   "metadata": {},
   "outputs": [
    {
     "data": {
      "text/plain": [
       "array(['Acre', 'Amapá', 'Amazonas', 'Maranhão', 'Mato Grosso', 'Pará',\n",
       "       'Rondônia', 'Roraima', 'Tocantins', 'Alagoas', 'Bahia', 'Ceará',\n",
       "       'Minas Gerais', 'Paraíba', 'Pernambuco', 'Piauí',\n",
       "       'Rio Grande do Norte', 'Sergipe', 'Distrito Federal', 'Goiás',\n",
       "       'Mato Grosso do Sul', 'Paraná', 'São Paulo', 'Espírito Santo',\n",
       "       'Rio de Janeiro', 'Rio Grande do Sul', 'Santa Catarina', nan],\n",
       "      dtype=object)"
      ]
     },
     "execution_count": 17,
     "metadata": {},
     "output_type": "execute_result"
    }
   ],
   "source": [
    "dados['Estado'].unique()"
   ]
  },
  {
   "cell_type": "code",
   "execution_count": 38,
   "metadata": {},
   "outputs": [],
   "source": [
    "sul = dados[dados['Estado'].isin(['Rio Grande do Sul', 'Santa Catarina', 'Paraná'])]"
   ]
  },
  {
   "cell_type": "code",
   "execution_count": 39,
   "metadata": {},
   "outputs": [
    {
     "data": {
      "text/plain": [
       "pandas.core.frame.DataFrame"
      ]
     },
     "execution_count": 39,
     "metadata": {},
     "output_type": "execute_result"
    }
   ],
   "source": [
    "type(sul)"
   ]
  },
  {
   "cell_type": "code",
   "execution_count": 40,
   "metadata": {},
   "outputs": [
    {
     "data": {
      "text/plain": [
       "array(['Paraná', 'Rio Grande do Sul', 'Santa Catarina'], dtype=object)"
      ]
     },
     "execution_count": 40,
     "metadata": {},
     "output_type": "execute_result"
    }
   ],
   "source": [
    "sul['Estado'].unique()"
   ]
  },
  {
   "cell_type": "code",
   "execution_count": 41,
   "metadata": {},
   "outputs": [
    {
     "data": {
      "text/html": [
       "<div>\n",
       "<style scoped>\n",
       "    .dataframe tbody tr th:only-of-type {\n",
       "        vertical-align: middle;\n",
       "    }\n",
       "\n",
       "    .dataframe tbody tr th {\n",
       "        vertical-align: top;\n",
       "    }\n",
       "\n",
       "    .dataframe thead th {\n",
       "        text-align: right;\n",
       "    }\n",
       "</style>\n",
       "<table border=\"1\" class=\"dataframe\">\n",
       "  <thead>\n",
       "    <tr style=\"text-align: right;\">\n",
       "      <th></th>\n",
       "      <th>Gás</th>\n",
       "      <th>Setor de emissão</th>\n",
       "      <th>Categoria emissora</th>\n",
       "      <th>Sub-categoria emissora</th>\n",
       "      <th>Produto ou sistema</th>\n",
       "      <th>Detalhamento</th>\n",
       "      <th>Recorte</th>\n",
       "      <th>Atividade geral</th>\n",
       "      <th>Estado</th>\n",
       "      <th>Bioma</th>\n",
       "      <th>...</th>\n",
       "      <th>2013</th>\n",
       "      <th>2014</th>\n",
       "      <th>2015</th>\n",
       "      <th>2016</th>\n",
       "      <th>2017</th>\n",
       "      <th>2018</th>\n",
       "      <th>2019</th>\n",
       "      <th>2020</th>\n",
       "      <th>2021</th>\n",
       "      <th>2022</th>\n",
       "    </tr>\n",
       "  </thead>\n",
       "  <tbody>\n",
       "    <tr>\n",
       "      <th>170</th>\n",
       "      <td>CH4 (t)</td>\n",
       "      <td>Agropecuária</td>\n",
       "      <td>Cultivo de arroz</td>\n",
       "      <td>Cultivo em sistema irrigado inundado</td>\n",
       "      <td>Arroz</td>\n",
       "      <td>Vegetal</td>\n",
       "      <td>Diretas</td>\n",
       "      <td>Agricultura</td>\n",
       "      <td>Paraná</td>\n",
       "      <td>Cerrado</td>\n",
       "      <td>...</td>\n",
       "      <td>10.719539</td>\n",
       "      <td>7.818007</td>\n",
       "      <td>6.651201</td>\n",
       "      <td>5.525886</td>\n",
       "      <td>5.402919</td>\n",
       "      <td>5.098879</td>\n",
       "      <td>4.644283</td>\n",
       "      <td>5.270290</td>\n",
       "      <td>5.354779</td>\n",
       "      <td>5.329111</td>\n",
       "    </tr>\n",
       "    <tr>\n",
       "      <th>183</th>\n",
       "      <td>CO2e (t) GTP-AR2</td>\n",
       "      <td>Agropecuária</td>\n",
       "      <td>Cultivo de arroz</td>\n",
       "      <td>Cultivo em sistema irrigado inundado</td>\n",
       "      <td>Arroz</td>\n",
       "      <td>Vegetal</td>\n",
       "      <td>Diretas</td>\n",
       "      <td>Agricultura</td>\n",
       "      <td>Paraná</td>\n",
       "      <td>Cerrado</td>\n",
       "      <td>...</td>\n",
       "      <td>53.597693</td>\n",
       "      <td>39.090033</td>\n",
       "      <td>33.256004</td>\n",
       "      <td>27.629431</td>\n",
       "      <td>27.014597</td>\n",
       "      <td>25.494397</td>\n",
       "      <td>23.221417</td>\n",
       "      <td>26.351448</td>\n",
       "      <td>26.773897</td>\n",
       "      <td>26.645553</td>\n",
       "    </tr>\n",
       "    <tr>\n",
       "      <th>196</th>\n",
       "      <td>CO2e (t) GTP-AR4</td>\n",
       "      <td>Agropecuária</td>\n",
       "      <td>Cultivo de arroz</td>\n",
       "      <td>Cultivo em sistema irrigado inundado</td>\n",
       "      <td>Arroz</td>\n",
       "      <td>Vegetal</td>\n",
       "      <td>Diretas</td>\n",
       "      <td>Agricultura</td>\n",
       "      <td>Paraná</td>\n",
       "      <td>Cerrado</td>\n",
       "      <td>...</td>\n",
       "      <td>53.597693</td>\n",
       "      <td>39.090033</td>\n",
       "      <td>33.256004</td>\n",
       "      <td>27.629431</td>\n",
       "      <td>27.014597</td>\n",
       "      <td>25.494397</td>\n",
       "      <td>23.221417</td>\n",
       "      <td>26.351448</td>\n",
       "      <td>26.773897</td>\n",
       "      <td>26.645553</td>\n",
       "    </tr>\n",
       "    <tr>\n",
       "      <th>209</th>\n",
       "      <td>CO2e (t) GTP-AR5</td>\n",
       "      <td>Agropecuária</td>\n",
       "      <td>Cultivo de arroz</td>\n",
       "      <td>Cultivo em sistema irrigado inundado</td>\n",
       "      <td>Arroz</td>\n",
       "      <td>Vegetal</td>\n",
       "      <td>Diretas</td>\n",
       "      <td>Agricultura</td>\n",
       "      <td>Paraná</td>\n",
       "      <td>Cerrado</td>\n",
       "      <td>...</td>\n",
       "      <td>42.878154</td>\n",
       "      <td>31.272026</td>\n",
       "      <td>26.604803</td>\n",
       "      <td>22.103545</td>\n",
       "      <td>21.611678</td>\n",
       "      <td>20.395518</td>\n",
       "      <td>18.577134</td>\n",
       "      <td>21.081158</td>\n",
       "      <td>21.419118</td>\n",
       "      <td>21.316443</td>\n",
       "    </tr>\n",
       "    <tr>\n",
       "      <th>222</th>\n",
       "      <td>CO2e (t) GTP-AR6</td>\n",
       "      <td>Agropecuária</td>\n",
       "      <td>Cultivo de arroz</td>\n",
       "      <td>Cultivo em sistema irrigado inundado</td>\n",
       "      <td>Arroz</td>\n",
       "      <td>Vegetal</td>\n",
       "      <td>Diretas</td>\n",
       "      <td>Agricultura</td>\n",
       "      <td>Paraná</td>\n",
       "      <td>Cerrado</td>\n",
       "      <td>...</td>\n",
       "      <td>50.381831</td>\n",
       "      <td>36.744631</td>\n",
       "      <td>31.260644</td>\n",
       "      <td>25.971666</td>\n",
       "      <td>25.393721</td>\n",
       "      <td>23.964734</td>\n",
       "      <td>21.828132</td>\n",
       "      <td>24.770361</td>\n",
       "      <td>25.167464</td>\n",
       "      <td>25.046820</td>\n",
       "    </tr>\n",
       "  </tbody>\n",
       "</table>\n",
       "<p>5 rows × 63 columns</p>\n",
       "</div>"
      ],
      "text/plain": [
       "                  Gás Setor de emissão Categoria emissora  \\\n",
       "170           CH4 (t)     Agropecuária   Cultivo de arroz   \n",
       "183  CO2e (t) GTP-AR2     Agropecuária   Cultivo de arroz   \n",
       "196  CO2e (t) GTP-AR4     Agropecuária   Cultivo de arroz   \n",
       "209  CO2e (t) GTP-AR5     Agropecuária   Cultivo de arroz   \n",
       "222  CO2e (t) GTP-AR6     Agropecuária   Cultivo de arroz   \n",
       "\n",
       "                   Sub-categoria emissora Produto ou sistema Detalhamento  \\\n",
       "170  Cultivo em sistema irrigado inundado              Arroz      Vegetal   \n",
       "183  Cultivo em sistema irrigado inundado              Arroz      Vegetal   \n",
       "196  Cultivo em sistema irrigado inundado              Arroz      Vegetal   \n",
       "209  Cultivo em sistema irrigado inundado              Arroz      Vegetal   \n",
       "222  Cultivo em sistema irrigado inundado              Arroz      Vegetal   \n",
       "\n",
       "     Recorte Atividade geral  Estado    Bioma  ...       2013       2014  \\\n",
       "170  Diretas     Agricultura  Paraná  Cerrado  ...  10.719539   7.818007   \n",
       "183  Diretas     Agricultura  Paraná  Cerrado  ...  53.597693  39.090033   \n",
       "196  Diretas     Agricultura  Paraná  Cerrado  ...  53.597693  39.090033   \n",
       "209  Diretas     Agricultura  Paraná  Cerrado  ...  42.878154  31.272026   \n",
       "222  Diretas     Agricultura  Paraná  Cerrado  ...  50.381831  36.744631   \n",
       "\n",
       "          2015       2016       2017       2018       2019       2020  \\\n",
       "170   6.651201   5.525886   5.402919   5.098879   4.644283   5.270290   \n",
       "183  33.256004  27.629431  27.014597  25.494397  23.221417  26.351448   \n",
       "196  33.256004  27.629431  27.014597  25.494397  23.221417  26.351448   \n",
       "209  26.604803  22.103545  21.611678  20.395518  18.577134  21.081158   \n",
       "222  31.260644  25.971666  25.393721  23.964734  21.828132  24.770361   \n",
       "\n",
       "          2021       2022  \n",
       "170   5.354779   5.329111  \n",
       "183  26.773897  26.645553  \n",
       "196  26.773897  26.645553  \n",
       "209  21.419118  21.316443  \n",
       "222  25.167464  25.046820  \n",
       "\n",
       "[5 rows x 63 columns]"
      ]
     },
     "execution_count": 41,
     "metadata": {},
     "output_type": "execute_result"
    }
   ],
   "source": []
  },
  {
   "cell_type": "code",
   "execution_count": 52,
   "metadata": {},
   "outputs": [
    {
     "data": {
      "text/plain": [
       "array(['Agropecuária', 'Energia', 'Mudança de Uso da Terra e Floresta',\n",
       "       'Processos Industriais', 'Resíduos'], dtype=object)"
      ]
     },
     "execution_count": 52,
     "metadata": {},
     "output_type": "execute_result"
    }
   ],
   "source": [
    "dados['Setor de emissão'].unique()"
   ]
  },
  {
   "cell_type": "code",
   "execution_count": 54,
   "metadata": {},
   "outputs": [
    {
     "data": {
      "text/plain": [
       "0         False\n",
       "1         False\n",
       "2         False\n",
       "3         False\n",
       "4         False\n",
       "          ...  \n",
       "309501    False\n",
       "309502    False\n",
       "309503    False\n",
       "309504    False\n",
       "309505    False\n",
       "Length: 281055, dtype: bool"
      ]
     },
     "execution_count": 54,
     "metadata": {},
     "output_type": "execute_result"
    }
   ],
   "source": [
    "(dados['Setor de emissão'] == 'Mudança de Uso da Terra e Floresta') & (dados['Estado'] == 'Amazonas')"
   ]
  },
  {
   "cell_type": "code",
   "execution_count": null,
   "metadata": {},
   "outputs": [],
   "source": []
  }
 ],
 "metadata": {
  "kernelspec": {
   "display_name": "Python 3",
   "language": "python",
   "name": "python3"
  },
  "language_info": {
   "codemirror_mode": {
    "name": "ipython",
    "version": 3
   },
   "file_extension": ".py",
   "mimetype": "text/x-python",
   "name": "python",
   "nbconvert_exporter": "python",
   "pygments_lexer": "ipython3",
   "version": "3.11.2"
  }
 },
 "nbformat": 4,
 "nbformat_minor": 2
}
