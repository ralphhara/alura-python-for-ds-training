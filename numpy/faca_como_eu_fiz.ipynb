{
 "cells": [
  {
   "cell_type": "markdown",
   "metadata": {},
   "source": [
    "Chegou a hora de você testar os conhecimentos desenvolvidos durante a aula. Para isso, vamos utilizar outro dataset em um desafio que será desenvolvido no decorrer do curso. Esse dataset é uma versão modificada do arquivo Oranges vs. Grapefruit presente no site do Kaggle. Portanto, utilizaremos o arquivo raw disponível no GitHub.\n",
    "\n",
    "Nessa etapa, você deve efetuar a leitura dos dados. Para isso, importe a NumPy e use a função loadtxt. Use o link da url e o parâmetro usecols para pular a primeira coluna. É possível usar np.arange para criar a sequência de números que representam as colunas. Por fim, também é necessário incluir o parâmetro skiprows=1 para que a primeira linha de texto seja desconsiderada na leitura do arquivo."
   ]
  },
  {
   "cell_type": "code",
   "execution_count": 57,
   "metadata": {},
   "outputs": [],
   "source": [
    "import numpy as np"
   ]
  },
  {
   "cell_type": "code",
   "execution_count": 58,
   "metadata": {},
   "outputs": [],
   "source": [
    "url = \"https://raw.githubusercontent.com/allanspadini/numpy/dados/citrus.csv\""
   ]
  },
  {
   "cell_type": "code",
   "execution_count": 59,
   "metadata": {},
   "outputs": [],
   "source": [
    "dado = np.loadtxt(url, delimiter=',', skiprows=1, usecols=np.arange(1,6,1))"
   ]
  },
  {
   "cell_type": "code",
   "execution_count": 60,
   "metadata": {},
   "outputs": [
    {
     "data": {
      "text/plain": [
       "array([[  2.96,  86.76, 172.  ,  85.  ,   2.  ],\n",
       "       [  3.91,  88.05, 166.  ,  78.  ,   3.  ],\n",
       "       [  4.42,  95.17, 156.  ,  81.  ,   2.  ],\n",
       "       ...,\n",
       "       [ 15.59, 256.5 , 168.  ,  82.  ,  20.  ],\n",
       "       [ 15.92, 260.14, 142.  ,  72.  ,  11.  ],\n",
       "       [ 16.45, 261.51, 152.  ,  74.  ,   2.  ]])"
      ]
     },
     "execution_count": 60,
     "metadata": {},
     "output_type": "execute_result"
    }
   ],
   "source": [
    "dado"
   ]
  },
  {
   "cell_type": "code",
   "execution_count": 61,
   "metadata": {},
   "outputs": [
    {
     "data": {
      "text/plain": [
       "(10000, 5)"
      ]
     },
     "execution_count": 61,
     "metadata": {},
     "output_type": "execute_result"
    }
   ],
   "source": [
    "dado.shape"
   ]
  },
  {
   "cell_type": "code",
   "execution_count": 62,
   "metadata": {},
   "outputs": [
    {
     "data": {
      "text/plain": [
       "2"
      ]
     },
     "execution_count": 62,
     "metadata": {},
     "output_type": "execute_result"
    }
   ],
   "source": [
    "dado.ndim"
   ]
  },
  {
   "cell_type": "code",
   "execution_count": 63,
   "metadata": {},
   "outputs": [
    {
     "data": {
      "text/plain": [
       "50000"
      ]
     },
     "execution_count": 63,
     "metadata": {},
     "output_type": "execute_result"
    }
   ],
   "source": [
    "dado.size"
   ]
  },
  {
   "cell_type": "code",
   "execution_count": 64,
   "metadata": {},
   "outputs": [
    {
     "data": {
      "text/plain": [
       "array([[  2.96,   3.91,   4.42, ...,  15.59,  15.92,  16.45],\n",
       "       [ 86.76,  88.05,  95.17, ..., 256.5 , 260.14, 261.51],\n",
       "       [172.  , 166.  , 156.  , ..., 168.  , 142.  , 152.  ],\n",
       "       [ 85.  ,  78.  ,  81.  , ...,  82.  ,  72.  ,  74.  ],\n",
       "       [  2.  ,   3.  ,   2.  , ...,  20.  ,  11.  ,   2.  ]])"
      ]
     },
     "execution_count": 64,
     "metadata": {},
     "output_type": "execute_result"
    }
   ],
   "source": [
    "dado.T"
   ]
  },
  {
   "cell_type": "markdown",
   "metadata": {},
   "source": [
    "Continuando com o projeto das laranjas/toranjas agora você deve selecionar parte dos dados. As colunas que iremos avaliar são as de diâmetro e peso. Crie arrays específicos para guardar o diâmetro e peso da laranja e toranja. O diâmetro está na coluna zero e o peso na coluna 1. Os dados referentes a laranja vão até a linha 4999 e os referentes à toranja iniciam na linha 5000 do arquivo.\n",
    "\n",
    "Após fazer a seleção de dados, importe a biblioteca matplotlib e crie um gráfico para a laranja e para a toranja do peso pelo diâmetro."
   ]
  },
  {
   "cell_type": "code",
   "execution_count": 65,
   "metadata": {},
   "outputs": [],
   "source": [
    "diametro_laranja = dado[0:5000, 0]\n",
    "diametro_toranja = dado[5000:, 0]\n",
    "peso_laranja = dado[0:5000, 1]\n",
    "peso_toranja = dado[5000:, 1]"
   ]
  },
  {
   "cell_type": "code",
   "execution_count": 66,
   "metadata": {},
   "outputs": [],
   "source": [
    "import matplotlib.pyplot as plt"
   ]
  },
  {
   "cell_type": "code",
   "execution_count": 67,
   "metadata": {},
   "outputs": [
    {
     "data": {
      "text/plain": [
       "[<matplotlib.lines.Line2D at 0x1304fe01450>]"
      ]
     },
     "execution_count": 67,
     "metadata": {},
     "output_type": "execute_result"
    },
    {
     "data": {
      "image/png": "[encoded data removed]",
      "text/plain": [
       "<Figure size 640x480 with 1 Axes>"
      ]
     },
     "metadata": {},
     "output_type": "display_data"
    }
   ],
   "source": [
    "plt.plot(diametro_laranja, peso_laranja)"
   ]
  },
  {
   "cell_type": "markdown",
   "metadata": {},
   "source": [
    "Continuando com o projeto das laranjas/toranjas agora você deve calcular o coeficiente ângular e o linear para a reta da laranja e para a reta da toranja. Use a fórmula de mínimos quadrados para encontrar cada um."
   ]
  },
  {
   "cell_type": "markdown",
   "metadata": {},
   "source": [
    "# Coeficiente Angular\n",
    "![alt text](image.png)\n",
    "\n",
    "- â = coeficiente angular;\n",
    "- n = número de elementos;\n",
    "- Y = Peso;\n",
    "- X = Diametros;"
   ]
  },
  {
   "cell_type": "code",
   "execution_count": 68,
   "metadata": {},
   "outputs": [
    {
     "data": {
      "text/plain": [
       "5000"
      ]
     },
     "execution_count": 68,
     "metadata": {},
     "output_type": "execute_result"
    }
   ],
   "source": [
    "diametro_laranja.size"
   ]
  },
  {
   "cell_type": "code",
   "execution_count": 69,
   "metadata": {},
   "outputs": [
    {
     "data": {
      "text/plain": [
       "5000"
      ]
     },
     "execution_count": 69,
     "metadata": {},
     "output_type": "execute_result"
    }
   ],
   "source": [
    "peso_laranja.size"
   ]
  },
  {
   "cell_type": "code",
   "execution_count": 70,
   "metadata": {},
   "outputs": [],
   "source": [
    "n1 = np.size(diametro_laranja)\n",
    "X1 = diametro_laranja\n",
    "Y1 = peso_laranja"
   ]
  },
  {
   "cell_type": "code",
   "execution_count": 71,
   "metadata": {},
   "outputs": [],
   "source": [
    "a1 = (n1 * np.sum(X1 * Y1) - np.sum(X1) * np.sum(Y1)) / (n1 * np.sum(X1 ** 2) - np.sum(X1) ** 2)"
   ]
  },
  {
   "cell_type": "code",
   "execution_count": 72,
   "metadata": {},
   "outputs": [
    {
     "data": {
      "text/plain": [
       "14.7997452319846"
      ]
     },
     "execution_count": 72,
     "metadata": {},
     "output_type": "execute_result"
    }
   ],
   "source": [
    "a1"
   ]
  },
  {
   "cell_type": "markdown",
   "metadata": {},
   "source": [
    "# Coeficiente Linear\n",
    "\n",
    "![alt text](image-1.png)"
   ]
  },
  {
   "cell_type": "code",
   "execution_count": 73,
   "metadata": {},
   "outputs": [],
   "source": [
    "b1 = np.mean(Y1) - a1 * np.mean(X1)"
   ]
  },
  {
   "cell_type": "code",
   "execution_count": 74,
   "metadata": {},
   "outputs": [
    {
     "data": {
      "text/plain": [
       "27.38560381218413"
      ]
     },
     "execution_count": 74,
     "metadata": {},
     "output_type": "execute_result"
    }
   ],
   "source": [
    "b1"
   ]
  },
  {
   "cell_type": "code",
   "execution_count": 75,
   "metadata": {},
   "outputs": [],
   "source": [
    "y1 = a1 * X1 + b1"
   ]
  },
  {
   "cell_type": "code",
   "execution_count": 76,
   "metadata": {},
   "outputs": [
    {
     "data": {
      "text/plain": [
       "array([ 71.1928497 ,  85.25260767,  92.80047774, ..., 213.12240647,\n",
       "       216.08235552, 217.85832495])"
      ]
     },
     "execution_count": 76,
     "metadata": {},
     "output_type": "execute_result"
    }
   ],
   "source": [
    "y1"
   ]
  },
  {
   "cell_type": "code",
   "execution_count": 77,
   "metadata": {},
   "outputs": [],
   "source": [
    "x1 = diametro_laranja"
   ]
  },
  {
   "cell_type": "code",
   "execution_count": 78,
   "metadata": {},
   "outputs": [
    {
     "data": {
      "text/plain": [
       "array([ 2.96,  3.91,  4.42, ..., 12.55, 12.75, 12.87])"
      ]
     },
     "execution_count": 78,
     "metadata": {},
     "output_type": "execute_result"
    }
   ],
   "source": [
    "x1"
   ]
  },
  {
   "cell_type": "code",
   "execution_count": 79,
   "metadata": {},
   "outputs": [
    {
     "data": {
      "text/plain": [
       "[<matplotlib.lines.Line2D at 0x1304fe5dd90>]"
      ]
     },
     "execution_count": 79,
     "metadata": {},
     "output_type": "execute_result"
    },
    {
     "data": {
      "image/png": "[encoded data removed]",
      "text/plain": [
       "<Figure size 640x480 with 1 Axes>"
      ]
     },
     "metadata": {},
     "output_type": "display_data"
    }
   ],
   "source": [
    "\n",
    "plt.plot(diametro_laranja, peso_laranja)\n",
    "plt.plot(x1, y1)"
   ]
  },
  {
   "cell_type": "code",
   "execution_count": 80,
   "metadata": {},
   "outputs": [
    {
     "data": {
      "text/plain": [
       "[<matplotlib.lines.Line2D at 0x13050051a50>]"
      ]
     },
     "execution_count": 80,
     "metadata": {},
     "output_type": "execute_result"
    },
    {
     "data": {
      "image/png": "[encoded data removed]",
      "text/plain": [
       "<Figure size 640x480 with 1 Axes>"
      ]
     },
     "metadata": {},
     "output_type": "display_data"
    }
   ],
   "source": [
    "plt.plot(diametro_toranja, peso_toranja)"
   ]
  },
  {
   "cell_type": "code",
   "execution_count": 81,
   "metadata": {},
   "outputs": [],
   "source": [
    "n2 = np.size(diametro_toranja)\n",
    "X2 = diametro_toranja\n",
    "Y2 = peso_toranja"
   ]
  },
  {
   "cell_type": "code",
   "execution_count": 82,
   "metadata": {},
   "outputs": [
    {
     "data": {
      "text/plain": [
       "15.70884459360376"
      ]
     },
     "execution_count": 82,
     "metadata": {},
     "output_type": "execute_result"
    }
   ],
   "source": [
    "a2 = (n2 * np.sum(X2 * Y2) - np.sum(X2) * np.sum(Y2)) / (n2 * np.sum(X2 ** 2) - np.sum(X2) ** 2)\n",
    "a2"
   ]
  },
  {
   "cell_type": "code",
   "execution_count": 83,
   "metadata": {},
   "outputs": [
    {
     "data": {
      "text/plain": [
       "17.007102876817726"
      ]
     },
     "execution_count": 83,
     "metadata": {},
     "output_type": "execute_result"
    }
   ],
   "source": [
    "b2 = np.mean(Y2) - a2 * np.mean(X2)\n",
    "b2"
   ]
  },
  {
   "cell_type": "code",
   "execution_count": 84,
   "metadata": {},
   "outputs": [
    {
     "data": {
      "text/plain": [
       "array([ 7.63,  7.69,  7.72, ..., 15.59, 15.92, 16.45])"
      ]
     },
     "execution_count": 84,
     "metadata": {},
     "output_type": "execute_result"
    }
   ],
   "source": [
    "x2 = diametro_toranja\n",
    "x2"
   ]
  },
  {
   "cell_type": "code",
   "execution_count": 85,
   "metadata": {},
   "outputs": [
    {
     "data": {
      "text/plain": [
       "array([136.86558713, 137.8081178 , 138.27938314, ..., 261.90799009,\n",
       "       267.09190881, 275.41759644])"
      ]
     },
     "execution_count": 85,
     "metadata": {},
     "output_type": "execute_result"
    }
   ],
   "source": [
    "y2 = a2 * X2 + b2\n",
    "y2"
   ]
  },
  {
   "cell_type": "code",
   "execution_count": 86,
   "metadata": {},
   "outputs": [
    {
     "data": {
      "text/plain": [
       "[<matplotlib.lines.Line2D at 0x130500bb290>]"
      ]
     },
     "execution_count": 86,
     "metadata": {},
     "output_type": "execute_result"
    },
    {
     "data": {
      "image/png": "[encoded data removed]",
      "text/plain": [
       "<Figure size 640x480 with 1 Axes>"
      ]
     },
     "metadata": {},
     "output_type": "display_data"
    }
   ],
   "source": [
    "plt.plot(diametro_toranja, peso_toranja)\n",
    "plt.plot(x2, y2)"
   ]
  },
  {
   "cell_type": "code",
   "execution_count": 87,
   "metadata": {},
   "outputs": [
    {
     "ename": "SyntaxError",
     "evalue": "'(' was never closed (2748679074.py, line 3)",
     "output_type": "error",
     "traceback": [
      "\u001b[1;36m  Cell \u001b[1;32mIn[87], line 3\u001b[1;36m\u001b[0m\n\u001b[1;33m    â = (n * Soma(Xi * Yi) - Soma(Xi) * Soma(Yi)) / nSoma(Xi2 - (Soma(Xi))2\u001b[0m\n\u001b[1;37m                                                         ^\u001b[0m\n\u001b[1;31mSyntaxError\u001b[0m\u001b[1;31m:\u001b[0m '(' was never closed\n"
     ]
    }
   ],
   "source": [
    "# Formula para Calculo do Coeficiente Angular\n",
    "\n",
    "â = (n * Soma(Xi * Yi) - Soma(Xi) * Soma(Yi)) / nSoma(Xi2 - (Soma(Xi))2"
   ]
  },
  {
   "cell_type": "markdown",
   "metadata": {},
   "source": [
    "Continuando com o projeto das laranjas/toranjas, agora você deve calcular o coeficiente angular utilizando a geração de números aleatórios. Assuma que já conhece b e que este é igual a 17."
   ]
  },
  {
   "cell_type": "code",
   "execution_count": null,
   "metadata": {},
   "outputs": [],
   "source": [
    "b = 17"
   ]
  },
  {
   "cell_type": "code",
   "execution_count": null,
   "metadata": {},
   "outputs": [
    {
     "data": {
      "text/plain": [
       "array([0.76244679, 0.39762029, 0.8266868 , 0.18553677, 0.73421204,\n",
       "       0.80293591, 0.42548241, 0.81405996, 0.48076897, 0.12729794,\n",
       "       0.85854132, 0.8380858 , 0.31149884, 0.58421778, 0.39787454,\n",
       "       0.60430502, 0.61833323, 0.16274505, 0.4932937 , 0.87523297,\n",
       "       0.4277784 , 0.40918005, 0.37362865, 0.52379774, 0.54057138,\n",
       "       0.4679321 , 0.26561629, 0.53016331, 0.27458338, 0.21624296,\n",
       "       0.6126488 , 0.25602074, 0.32596347, 0.56067012, 0.88218421,\n",
       "       0.24869464, 0.57699179, 0.5756951 , 0.16971618, 0.21095692,\n",
       "       0.10375727, 0.59697682, 0.19485484, 0.44617879, 0.8912787 ,\n",
       "       0.2665119 , 0.38615274, 0.84925145, 0.60332871, 0.31008246,\n",
       "       0.19324567, 0.50526253, 0.79521896, 0.46529549, 0.41293497,\n",
       "       0.17972692, 0.88552523, 0.73644394, 0.41920252, 0.52723623,\n",
       "       0.36425085, 0.42336076, 0.42807811, 0.84030249, 0.21474537,\n",
       "       0.46672158, 0.48703429, 0.43120259, 0.86772886, 0.16410341,\n",
       "       0.50118155, 0.50557062, 0.49111588, 0.48924173, 0.13922738,\n",
       "       0.41701676, 0.32367412, 0.30548245, 0.48039921, 0.26209519,\n",
       "       0.37999892, 0.21265266, 0.35348583, 0.12380623, 0.36672015,\n",
       "       0.79706366, 0.29100676, 0.59596685, 0.44684564, 0.38580712,\n",
       "       0.62259487, 0.51286654, 0.60688153, 0.67698242, 0.13156419,\n",
       "       0.68587835, 0.55080278, 0.75148557, 0.17046907, 0.18472326])"
      ]
     },
     "execution_count": 53,
     "metadata": {},
     "output_type": "execute_result"
    }
   ],
   "source": [
    "np.random.seed(84)\n",
    "np.random.uniform(low=0.1, high=0.9, size=100)\n",
    "coef_angulares = np.random.uniform(low=0.1, high=0.9, size=100)\n",
    "coef_angulares"
   ]
  },
  {
   "cell_type": "code",
   "execution_count": null,
   "metadata": {},
   "outputs": [],
   "source": [
    "norma = np.array([])\n",
    "\n",
    "for i in range(100):\n",
    "    norma = np.append(norma, np.linalg.norm(Y1 - (coef_angulares[i] * X1 + b1)))"
   ]
  },
  {
   "cell_type": "code",
   "execution_count": null,
   "metadata": {},
   "outputs": [
    {
     "data": {
      "text/plain": [
       "array([8504.27448505, 8725.29235951, 8465.35685256, 8853.77609919,\n",
       "       8521.37955351, 8479.74552792, 8708.41302252, 8473.00639571,\n",
       "       8674.9195097 , 8889.05817098, 8446.05887456, 8458.4511553 ,\n",
       "       8777.46616482, 8612.24851919, 8725.13832941, 8600.07934237,\n",
       "       8591.58082524, 8867.58371192, 8667.33182378, 8435.94680503,\n",
       "       8707.02207296, 8718.28926246, 8739.82688968, 8648.85197394,\n",
       "       8638.69022642, 8682.69629971, 8805.26258218, 8644.99560815,\n",
       "       8799.83016919, 8835.17377454, 8595.02454378, 8811.07573021,\n",
       "       8768.70325187, 8626.51407693, 8431.735633  , 8815.51399941,\n",
       "       8616.62614456, 8617.41170188, 8863.36048276, 8838.37614678,\n",
       "       8903.31950418, 8604.51888565, 8848.13105803, 8695.87481139,\n",
       "       8426.22604595, 8804.72000959, 8732.23959126, 8451.68682725,\n",
       "       8600.67080401, 8778.32423398, 8849.10592098, 8660.08090607,\n",
       "       8484.42057478, 8684.29360264, 8716.01446947, 8857.29580766,\n",
       "       8429.71159154, 8520.02743335, 8712.21748688, 8646.76887782,\n",
       "       8745.50811619, 8709.69835448, 8706.84050379, 8457.10825104,\n",
       "       8836.08103846, 8683.4296491 , 8671.12387857, 8704.94764449,\n",
       "       8440.49291387, 8866.76079458, 8662.55323478, 8659.89426292,\n",
       "       8668.65118108, 8669.78657116, 8881.83111381, 8713.54165461,\n",
       "       8770.09018118, 8781.11099343, 8675.14351751, 8807.3957226 ,\n",
       "       8735.96767856, 8837.34883663, 8752.02974822, 8891.17350488,\n",
       "       8744.01217608, 8483.30303153, 8789.88061278, 8605.13074165,\n",
       "       8695.47082635, 8732.44897273, 8588.99904951, 8655.47427387,\n",
       "       8598.51844764, 8556.05018643, 8886.47360433, 8550.6608884 ,\n",
       "       8632.49187287, 8510.91496867, 8862.90436632, 8854.26893844])"
      ]
     },
     "execution_count": 55,
     "metadata": {},
     "output_type": "execute_result"
    }
   ],
   "source": [
    "norma"
   ]
  },
  {
   "cell_type": "code",
   "execution_count": null,
   "metadata": {},
   "outputs": [
    {
     "data": {
      "text/plain": [
       "0.826686802067041"
      ]
     },
     "execution_count": 56,
     "metadata": {},
     "output_type": "execute_result"
    }
   ],
   "source": [
    "coef_angulares[2]"
   ]
  },
  {
   "cell_type": "markdown",
   "metadata": {},
   "source": [
    "#### Salvando os dados em um arquivo"
   ]
  },
  {
   "cell_type": "code",
   "execution_count": 89,
   "metadata": {},
   "outputs": [],
   "source": [
    "# consolidar os dados em uma variável\n",
    "\n",
    "dados2 = np.column_stack([norma, coef_angulares])"
   ]
  },
  {
   "cell_type": "code",
   "execution_count": 90,
   "metadata": {},
   "outputs": [
    {
     "data": {
      "text/plain": [
       "(100, 2)"
      ]
     },
     "execution_count": 90,
     "metadata": {},
     "output_type": "execute_result"
    }
   ],
   "source": [
    "dados2.shape"
   ]
  },
  {
   "cell_type": "code",
   "execution_count": 91,
   "metadata": {},
   "outputs": [],
   "source": [
    "np.savetxt('dados.csv', dados2, delimiter=',')"
   ]
  }
 ],
 "metadata": {
  "kernelspec": {
   "display_name": "Python 3",
   "language": "python",
   "name": "python3"
  },
  "language_info": {
   "codemirror_mode": {
    "name": "ipython",
    "version": 3
   },
   "file_extension": ".py",
   "mimetype": "text/x-python",
   "name": "python",
   "nbconvert_exporter": "python",
   "pygments_lexer": "ipython3",
   "version": "3.11.2"
  }
 },
 "nbformat": 4,
 "nbformat_minor": 2
}
