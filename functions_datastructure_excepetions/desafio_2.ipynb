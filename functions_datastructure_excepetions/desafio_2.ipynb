{
  "nbformat": 4,
  "nbformat_minor": 0,
  "metadata": {
    "colab": {
      "provenance": [],
      "authorship_tag": "ABX9TyOBfWNdIPh0ascLJHjY+T2z"
    },
    "kernelspec": {
      "name": "python3",
      "display_name": "Python 3"
    },
    "language_info": {
      "name": "python"
    }
  },
  "cells": [
    {
      "cell_type": "markdown",
      "source": [
        "1. Escreva um código que lê a lista abaixo e faça:\n",
        "\n",
        "  lista = [16, 14, 63, 65, 17, 99, 70, 11, 20, 48, 79, 32, 17, 89, 12, 25, 66]\n",
        "\n",
        "- A leitura do tamanho da lista\n",
        "- A leitura do maior e menor valor\n",
        "- A soma dos valores da lista\n",
        "\n",
        "  Ao final exiba uma mensagem dizendo:\n",
        "\n",
        "  \"A lista possui [tam] números em que o maior número é [maior] e o menor número é [menor]. A soma dos valores presentes nela é igual a [soma]\"\n",
        "\n",
        "\n"
      ],
      "metadata": {
        "id": "O8hUOL9Dq4ML"
      }
    },
    {
      "cell_type": "code",
      "execution_count": null,
      "metadata": {
        "colab": {
          "base_uri": "https://localhost:8080/"
        },
        "id": "uJvODwJjqwTA",
        "outputId": "a16b87b5-36dc-4546-813c-6dc2b4431dc3"
      },
      "outputs": [
        {
          "output_type": "stream",
          "name": "stdout",
          "text": [
            "A lista possui 17 números em que o maior número é 99 e o menor número é 11. A soma dos valores presentes nela é igual a 743\n"
          ]
        }
      ],
      "source": [
        "lista = [16, 14, 63, 65, 17, 99, 70, 11, 20, 48, 79, 32, 17, 89, 12, 25, 66]\n",
        "\n",
        "tam = len(lista)\n",
        "maior = max(lista)\n",
        "menor = min(lista)\n",
        "soma = sum(lista)\n",
        "\n",
        "print(f\"A lista possui {tam} números em que o maior número é {maior} e o menor número é {menor}. A soma dos valores presentes nela é igual a {soma}\")"
      ]
    },
    {
      "cell_type": "markdown",
      "source": [
        "2. Escreva uma função que gere a tabuada de um número inteiro de 1 a 10, de acordo com a escolha da pessoa usuária. Como exemplo, para o número 7, a tabuada deve ser mostrada no seguinte formato:\n",
        "\n",
        "  Tabuada do 7:\n",
        "  \n",
        "  7 x 0 = 0\n",
        "  \n",
        "  7 x 1 = 7\n",
        "  \n",
        "  [...]\n",
        "  \n",
        "  7 x 10 = 70\n"
      ],
      "metadata": {
        "id": "o-ktbrdIsKXv"
      }
    },
    {
      "cell_type": "code",
      "source": [
        "print(\"Gerador de Tabuada\\n\")\n",
        "\n",
        "fator = int(input(\"Digite um numero inteiro: \"))\n",
        "\n",
        "for num in range(11):\n",
        "  prod = fator * num\n",
        "  print(f\"{fator} x {num} = {prod}\")\n"
      ],
      "metadata": {
        "colab": {
          "base_uri": "https://localhost:8080/"
        },
        "id": "Z4-th_vEsXAG",
        "outputId": "77ee682e-b1d8-4bfa-a034-9916ca79ad19"
      },
      "execution_count": null,
      "outputs": [
        {
          "output_type": "stream",
          "name": "stdout",
          "text": [
            "Gerador de Tabuada\n",
            "\n",
            "Digite um numero inteiro: 7\n",
            "7 x 0 = 0\n",
            "7 x 1 = 7\n",
            "7 x 2 = 14\n",
            "7 x 3 = 21\n",
            "7 x 4 = 28\n",
            "7 x 5 = 35\n",
            "7 x 6 = 42\n",
            "7 x 7 = 49\n",
            "7 x 8 = 56\n",
            "7 x 9 = 63\n",
            "7 x 10 = 70\n"
          ]
        }
      ]
    },
    {
      "cell_type": "markdown",
      "source": [
        "3. Crie a função que leia a lista abaixo e retorne uma nova lista com os múltiplos de 3:\n",
        "\n",
        "  [97, 80, 94, 88, 80, 1, 16, 53, 62, 32, 24, 99]\n",
        "\n",
        "  Utilize o return na função e salve a nova lista na variável mult_3."
      ],
      "metadata": {
        "id": "giC2rD7OuGOA"
      }
    },
    {
      "cell_type": "code",
      "source": [
        "numeros = [97, 80, 94, 88, 80, 1, 16, 53, 62, 32, 24, 99]\n",
        "\n",
        "def validaMult3(lista):\n",
        "  mult_3 = []\n",
        "  for num in lista:\n",
        "    if num % 3 == 0:\n",
        "      mult_3.append(num)\n",
        "  return mult_3\n",
        "\n",
        "print(\"Os numeros multiplos de 3 sao: \", validaMult3(numeros))"
      ],
      "metadata": {
        "colab": {
          "base_uri": "https://localhost:8080/"
        },
        "id": "ubojKkn7uRH1",
        "outputId": "afbd8b45-7445-4f35-b644-dbaf921e888d"
      },
      "execution_count": null,
      "outputs": [
        {
          "output_type": "stream",
          "name": "stdout",
          "text": [
            "Os numeros multiplos de 3 sao:  [24, 99]\n"
          ]
        }
      ]
    },
    {
      "cell_type": "markdown",
      "source": [
        "4. Crie uma lista dos quadrados dos números da seguinte lista [1, 2, 3, 4, 5, 6, 7, 8, 9, 10]. Lembre-se de utilizar as funções lambda e map() para calcular o quadrado de cada elemento da lista."
      ],
      "metadata": {
        "id": "b5CrlA7hzPvP"
      }
    },
    {
      "cell_type": "code",
      "source": [
        "quadrado = map(lambda x: pow(x, 2), range(1, 11))\n",
        "print(\"Nova lista ao quadrado: \", list(quadrado))"
      ],
      "metadata": {
        "colab": {
          "base_uri": "https://localhost:8080/"
        },
        "id": "k27AoI5jx4AB",
        "outputId": "e0971a49-98bf-4170-efe6-511f2e48f335"
      },
      "execution_count": null,
      "outputs": [
        {
          "output_type": "stream",
          "name": "stdout",
          "text": [
            "Nova lista ao quadrado:  [1, 4, 9, 16, 25, 36, 49, 64, 81, 100]\n"
          ]
        }
      ]
    },
    {
      "cell_type": "markdown",
      "source": [
        "5. Você foi contratado(a) como cientista de dados de uma associação de skate. Para analisar as notas recebidas de skatistas em algumas competições ao longo do ano, você precisa criar um código que calcula a pontuação dos(as) atletas. Para isso, o seu código deve receber 5 notas digitadas pelas pessoas juradas.\n",
        "\n",
        "  Para calcular a pontuação de um(a) skatista, você precisa eliminar a maior e a menor pontuação dentre as 5 notas e tirar a média das 3 notas que sobraram. Retorne a média para apresentar o texto:\n",
        "\n",
        "  \"Nota da manobra: [media]\""
      ],
      "metadata": {
        "id": "ZRC6Y-wX3UiT"
      }
    },
    {
      "cell_type": "code",
      "source": [
        "notas = []\n",
        "\n",
        "for x in range(1, 6):\n",
        "  nota = int(input(f\"Digite uma nota de 0 a 10 para o skatista {x}: \"))\n",
        "  notas.append(nota)\n",
        "\n",
        "notas.remove(max(notas))\n",
        "notas.remove(min(notas))\n",
        "\n",
        "media = sum(notas) / len(notas)\n",
        "\n",
        "print(f\"Nota da manobra: {media:.2f}\")"
      ],
      "metadata": {
        "colab": {
          "base_uri": "https://localhost:8080/"
        },
        "id": "nFtLXCUj3Xp0",
        "outputId": "3ad4cae9-1298-4d1d-d0d5-c1cea7955021"
      },
      "execution_count": null,
      "outputs": [
        {
          "output_type": "execute_result",
          "data": {
            "text/plain": [
              "<map at 0x7b503fd02470>"
            ]
          },
          "metadata": {},
          "execution_count": 65
        }
      ]
    },
    {
      "cell_type": "markdown",
      "source": [
        "6. Para atender a uma demanda de uma instituição de ensino para a análise do desempenho de seus(suas) estudantes, você precisa criar uma função que receba uma lista de 4 notas e retorne:\n",
        "\n",
        "  maior nota\n",
        "  \n",
        "  menor nota\n",
        "\n",
        "  média\n",
        "\n",
        "  situação (Aprovado(a) ou Reprovado(a))\n",
        "\n",
        "  Para testar o comportamento da função, os dados podem ser exibidos em um texto:\n",
        "\n",
        "  \"O(a) estudante obteve uma média de [media], com a sua maior nota de [maior] pontos e a menor nota de [menor] pontos e foi [situacao]\"\n"
      ],
      "metadata": {
        "id": "SlkJ2L6CP4Gp"
      }
    },
    {
      "cell_type": "code",
      "source": [
        "def avaliacaoAluno(lista):\n",
        "  notas = []\n",
        "\n",
        "  for x in range(4):\n",
        "    nota = int(input(f\"Digite uma nota de 0 a 10: \"))\n",
        "    notas.append(nota)\n",
        "\n",
        "  maior = max(lista)\n",
        "  menor = min(lista)\n",
        "  media = sum(lista) / len(lista)\n",
        "  if media >= 6:\n",
        "    situacao = \"Aprovado\"\n",
        "  else:\n",
        "    situacao = \"Reprovado\"\n",
        "  return (maior, menor, media, situacao)\n",
        "\n",
        "maior, menor, media, situacao = avaliacaoAluno(notas)\n",
        "\n",
        "print(f\"\\nO(a) estudante obteve uma média de {media}, com a sua maior nota de {maior} pontos e a menor nota de {menor} pontos e foi {situacao}!\")"
      ],
      "metadata": {
        "colab": {
          "base_uri": "https://localhost:8080/"
        },
        "id": "k-z9ir-QQBDL",
        "outputId": "a70f7133-a3ae-4cc9-c1fc-fb55beb9328a"
      },
      "execution_count": null,
      "outputs": [
        {
          "output_type": "stream",
          "name": "stdout",
          "text": [
            "Digite uma nota de 0 a 10: 8\n",
            "Digite uma nota de 0 a 10: 9\n",
            "Digite uma nota de 0 a 10: 5\n",
            "Digite uma nota de 0 a 10: 6\n",
            "\n",
            "O(a) estudante obteve uma média de 7.5, com a sua maior nota de 10 pontos e a menor nota de 5 pontos e foi Aprovado!\n"
          ]
        }
      ]
    },
    {
      "cell_type": "markdown",
      "source": [
        "7. Você recebeu uma demanda para tratar 2 listas com os nomes e sobrenomes de cada estudante concatenando-as para apresentar seus nomes completos na forma Nome Sobrenome. As listas são:\n",
        "\n",
        "  nomes = [\"joão\", \"MaRia\", \"JOSÉ\"]\n",
        "  \n",
        "  sobrenomes = [\"SILVA\", \"souza\", \"Tavares\"]\n",
        "\n",
        "  O texto exibido ao fim deve ser parecido com:\n",
        "\n",
        "  \"Nome completo: Ana Silva\"\n",
        "\n",
        "  Dica: utilize a função map para mapear os nomes e sobrenomes e as funções de string para tratar o texto."
      ],
      "metadata": {
        "id": "1FcShQ7TU7hk"
      }
    },
    {
      "cell_type": "code",
      "source": [
        "nomes = [\"joão\", \"MaRia\", \"JOSÉ\"]\n",
        "sobrenomes = [\"SILVA\", \"souza\", \"Tavares\"]\n",
        "\n",
        "completo = map(lambda x, y: x.capitalize() + \" \" + y.capitalize(), nomes, sobrenomes)\n",
        "completo = list(completo)\n",
        "\n",
        "for nome in list(completo):\n",
        "  print(\"Nome completo:\", nome)"
      ],
      "metadata": {
        "colab": {
          "base_uri": "https://localhost:8080/"
        },
        "id": "H2M_riprTu1O",
        "outputId": "9cce3173-0999-4b00-d860-909f68a255e5"
      },
      "execution_count": null,
      "outputs": [
        {
          "output_type": "stream",
          "name": "stdout",
          "text": [
            "Nome completo: João Silva\n",
            "Nome completo: Maria Souza\n",
            "Nome completo: José Tavares\n"
          ]
        }
      ]
    },
    {
      "cell_type": "markdown",
      "source": [
        "8. Como cientista de dados em um time de futebol, você precisa implementar novas formas de coleta de dados sobre o desempenho de jogadores e do time como um todo. Sua primeira ação é criar uma forma de calcular a pontuação do time no campeonato nacional a partir dos dados de gols marcados e sofridos em cada jogo.\n",
        "\n",
        "\tEscreva uma função chamada calcula_pontos que recebe como parâmetros duas listas de números inteiros, representando os gols marcados e sofridos pelo time em cada partida do campeonato. A função deve retornar a pontuação do time e o aproveitamento em percentual, levando em consideração que a vitória vale 3 pontos, o empate vale 1 ponto e a derrota 0 pontos.\n",
        "\n",
        "\tObservação: se a quantidade de gols marcados numa partida for maior que a de sofridos, o time venceu. Caso seja igual, o time empatou e se for menor, o time perdeu. Para calcular o aproveitamento devemos fazer a razão entre a pontuação do time pela pontuação máxima que ele poderia receber.\n",
        "\n",
        "\tPara teste, utilize as seguintes listas de gols marcados e sofridos:\n",
        "\n",
        "\tgols_marcados = [2, 1, 3, 1, 0]\n",
        "\n",
        "\tgols_sofridos = [1, 2, 2, 1, 3]\n",
        "\n",
        "\tProvável texto exibido:"
      ],
      "metadata": {
        "id": "8_KOJXkP038-"
      }
    },
    {
      "cell_type": "code",
      "source": [
        "gols_marcados = [2, 1, 3, 1, 0]\n",
        "gols_sofridos = [1, 2, 2, 1, 3]\n",
        "\n",
        "def calcula_pontos(l1, l2):\n",
        "  pontos = 0\n",
        "  for x, y in zip(l1, l2):\n",
        "    if x > y:\n",
        "      pontos += 3\n",
        "    elif x == y:\n",
        "      pontos += 1\n",
        "    else:\n",
        "      pontos += 0\n",
        "\n",
        "  pontoMax = len(gols_marcados) * 3\n",
        "\n",
        "  aprov = (pontos / pontoMax) * 100\n",
        "\n",
        "  return (pontos, aprov)\n",
        "\n",
        "pontos, aprov = calcula_pontos(gols_marcados, gols_sofridos)\n",
        "\n",
        "print(f\"A pontuação do time foi de {pontos} e seu aproveitamento foi de {aprov: .2f}%\")"
      ],
      "metadata": {
        "colab": {
          "base_uri": "https://localhost:8080/"
        },
        "id": "Snwk4IjA1J57",
        "outputId": "6d37dff3-e014-43cf-cee8-d28a068f53ff"
      },
      "execution_count": null,
      "outputs": [
        {
          "output_type": "stream",
          "name": "stdout",
          "text": [
            "A pontuação do time foi de 7 e seu aproveitamento foi de  46.67%\n"
          ]
        }
      ]
    },
    {
      "cell_type": "markdown",
      "source": [
        "9. Você recebeu o desafio de criar um código que calcula os gastos de uma viagem para um das quatro cidades partindo de Recife, sendo elas: Salvador, Fortaleza, Natal e Aracaju.\n",
        "\n",
        "  O custo da diária do hotel é de 150 reais em todas elas e o consumo de gasolina na viagem de carro é de 14 km/l, sendo que o valor da gasolina é de 5 reais o litro. O gastos com passeios e alimentação a se fazer em cada uma delas por dia seria de [200, 400, 250, 300], respectivamente.\n",
        "\n",
        "  Sabendo que as distâncias entre Recife e cada uma das cidades é de aproximadamente [850, 800, 300, 550] km, crie três funções nas quais: a 1ª função calcule os gastos com hotel (gasto_hotel), a 2ª calcule os gastos com a gasolina (gasto_gasolina) e a 3ª os gastos com passeio e alimentação (gasto_passeio).\n",
        "\n",
        "  Para testar, simule uma viagem de 3 dias para Salvador partindo de Recife. Considere a viagem de ida e volta de carro.\n"
      ],
      "metadata": {
        "id": "6Hhrvnw_VVVG"
      }
    },
    {
      "cell_type": "code",
      "source": [
        "cidades = ['Salvador', 'Fortaleza', 'Natal', 'Aracaju']\n",
        "passeios = [200, 400, 250, 300]\n",
        "distancias = [850, 800, 300, 550]\n",
        "\n",
        "def gasto_hotel(dias):\n",
        "  hospedagem = dias * 150\n",
        "  return hospedagem\n",
        "\n",
        "def gasto_gasolina(cidade):\n",
        "  combusta = (distancias[cidades.index(cidade)] * 2 / 14) * 5\n",
        "  return combusta\n",
        "\n",
        "def gasto_passeio(cidade, dias):\n",
        "  valor = passeios[cidades.index(cidade)] * dias\n",
        "  return valor\n",
        "\n",
        "print(\"Calculadora de custo de viagem\\n\")\n",
        "cidade = input(\"Para onde você vai? \")\n",
        "dias = int(input(\"Quantos dias ficara por la? \"))\n",
        "\n",
        "hotel = gasto_hotel(dias)\n",
        "combustivel = gasto_gasolina(cidade)\n",
        "roles = gasto_passeio(cidade, dias)\n",
        "\n",
        "gastos = gasto_hotel(dias) + gasto_gasolina(cidade) + gasto_passeio(cidade, dias)\n",
        "\n",
        "print(f\"\\nCom base nos gastos definidos, uma viagem de {dias} dias para {cidade} saindo de Recife custaria {gastos: .2f} reais\")\n",
        "print(\"\\nRecibo Detalhado:\\n\")\n",
        "print(f\"Hospedagem: {hotel: .2f}\")\n",
        "print(f\"Combustivel: {combustivel: .2f}\")\n",
        "print(f\"Passeios: {roles: .2f}\")"
      ],
      "metadata": {
        "colab": {
          "base_uri": "https://localhost:8080/"
        },
        "id": "nDT1edbBVdpR",
        "outputId": "a4e94c99-e77c-4432-fb4a-4cb227d1c156"
      },
      "execution_count": null,
      "outputs": [
        {
          "output_type": "stream",
          "name": "stdout",
          "text": [
            "Calculadora de custo de viagem\n",
            "\n",
            "Para onde você vai? Salvador\n",
            "Quantos dias ficara por la? 4\n",
            "\n",
            "Com base nos gastos definidos, uma viagem de 4 dias para Salvador saindo de Recife custaria  2007.14 reais\n",
            "\n",
            "Recibo Detalhado:\n",
            "\n",
            "Hospedagem:  600.00\n",
            "Combustivel:  607.14\n",
            "Passeios:  800.00\n"
          ]
        }
      ]
    },
    {
      "cell_type": "markdown",
      "source": [
        "10. Você iniciou um estágio em uma empresa que trabalha com processamento de linguagem natural (NLP). Sua líder requisitou que você criasse um trecho de código que recebe uma frase digitada pela pessoa usuária e filtre apenas as palavras com tamanho maior ou igual a 5, exibindo-as em uma lista. Essa demanda é voltada para a análise do padrão de comportamento de pessoas na escrita de palavras acima dessa quantidade de caracteres.\n",
        "\n",
        "  Dica: utilize as funções lambda e filter() para filtrar essas palavras. Lembrando que a função embutida filter() recebe uma função (no nosso exemplo uma função lambda) e filtra um iterável de acordo com a função. Para tratar a frase use replace() para trocar a ',' '.', '!' e '?' por espaço."
      ],
      "metadata": {
        "id": "sI9Va5aoxLYR"
      }
    },
    {
      "cell_type": "code",
      "source": [
        "from os import replace\n",
        "frase = input(\"Digite uma frase: \")\n",
        "\n",
        "frase = frase.replace(',', ' ').replace('.', ' ').replace('!', ' ').replace('?', ' ')\n",
        "\n",
        "filtro = filter(lambda x: len(x) >= 5, frase.split())\n",
        "\n",
        "list(filtro)"
      ],
      "metadata": {
        "id": "FGt9R-A3xe09",
        "colab": {
          "base_uri": "https://localhost:8080/"
        },
        "outputId": "c77be43c-6c6e-41e0-d473-dcea80e0ad7e"
      },
      "execution_count": null,
      "outputs": [
        {
          "name": "stdout",
          "output_type": "stream",
          "text": [
            "Digite uma frase: Aprender Python aqui na Alura é muito bom\n"
          ]
        },
        {
          "output_type": "execute_result",
          "data": {
            "text/plain": [
              "['Aprender', 'Python', 'Alura', 'muito']"
            ]
          },
          "metadata": {},
          "execution_count": 9
        }
      ]
    }
  ]
}