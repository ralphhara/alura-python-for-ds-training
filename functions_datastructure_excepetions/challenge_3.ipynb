{
 "cells": [
  {
   "cell_type": "markdown",
   "metadata": {},
   "source": [
    "1. Crie um código para imprimir a soma dos elementos de cada uma das listas contidas na seguinte lista:"
   ]
  },
  {
   "cell_type": "code",
   "execution_count": 10,
   "metadata": {},
   "outputs": [
    {
     "name": "stdout",
     "output_type": "stream",
     "text": [
      "Lista [4, 6, 5, 9]: 24\n",
      "Lista [1, 0, 7, 2]: 10\n",
      "Lista [3, 4, 1, 8]: 16\n"
     ]
    }
   ],
   "source": [
    "lista_de_listas = [[4,6,5,9], [1,0,7,2], [3,4,1,8]]\n",
    "\n",
    "for lista in lista_de_listas:\n",
    "    print(f'Lista {lista}: {sum(lista)}')"
   ]
  },
  {
   "cell_type": "markdown",
   "metadata": {},
   "source": [
    "2. Crie um código para gerar uma lista que armazena o terceiro elemento de cada tupla contida na seguinte lista de tuplas:"
   ]
  },
  {
   "cell_type": "code",
   "execution_count": 13,
   "metadata": {},
   "outputs": [
    {
     "name": "stdout",
     "output_type": "stream",
     "text": [
      "Terceiro elemento de cada tupla:\n",
      " [81, 67, 83]\n"
     ]
    }
   ],
   "source": [
    "lista_de_tuplas = [('Pedro', 1.74, 81), ('Júlia', 1.65, 67), ('Otávio', 1.81, 83)]\n",
    "\n",
    "terceiro_elemento = list(map(lambda x: x[2], lista_de_tuplas))\n",
    "\n",
    "print(\"Terceiro elemento de cada tupla:\\n\", terceiro_elemento)"
   ]
  },
  {
   "cell_type": "markdown",
   "metadata": {},
   "source": [
    "3. A partir da lista: lista = ['Pedro', 'Júlia', 'Otávio', 'Eduardo'], crie um código para gerar uma lista de tuplas em que cada tupla tenha o primeiro elemento como a posição do nome na lista original e o segundo elemento sendo o próprio nome."
   ]
  },
  {
   "cell_type": "code",
   "execution_count": 13,
   "metadata": {},
   "outputs": [
    {
     "name": "stdout",
     "output_type": "stream",
     "text": [
      "Lista de tuplas com indice e nome:\n",
      " [(0, 'Pedro'), (1, 'Júlia'), (2, 'Otávio'), (3, 'Eduardo')]\n"
     ]
    }
   ],
   "source": [
    "lista = ['Pedro', 'Júlia', 'Otávio', 'Eduardo']\n",
    "\n",
    "lista_tuplas = list(map(lambda x, y: (x, y), range(len(lista)), lista))\n",
    "\n",
    "print(\"Lista de tuplas com indice e nome:\\n\", lista_tuplas)"
   ]
  },
  {
   "cell_type": "markdown",
   "metadata": {},
   "source": [
    "4. Crie uma lista usando o list comprehension que armazena somente o valor numérico de cada tupla caso o primeiro elemento seja 'Apartamento', a partir da seguinte lista de tuplas:"
   ]
  },
  {
   "cell_type": "code",
   "execution_count": 41,
   "metadata": {},
   "outputs": [
    {
     "name": "stdout",
     "output_type": "stream",
     "text": [
      "Lista de numeros dos apartamentos:\n",
      " [1700, 1400, 1900]\n"
     ]
    }
   ],
   "source": [
    "aluguel = [('Apartamento', 1700), ('Apartamento', 1400), ('Casa', 2150), ('Apartamento', 1900), ('Casa', 1100)]\n",
    "\n",
    "nova_lista = [aluguel[item][1] for item in range(0, len(aluguel)) if aluguel[item][0] == 'Apartamento']\n",
    "\n",
    "print(\"Lista de numeros dos apartamentos:\\n\", nova_lista)"
   ]
  },
  {
   "cell_type": "markdown",
   "metadata": {},
   "source": [
    "5. Crie um dicionário usando o dict comprehension em que as chaves estão na lista meses = ['Jan', 'Fev', 'Mar', 'Abr', 'Mai', 'Jun', 'Jul', 'Ago', 'Set', 'Out', 'Nov', 'Dez'] e os valores estão em despesa = [860, 490, 1010, 780, 900, 630, 590, 770, 620, 560, 840, 360]."
   ]
  },
  {
   "cell_type": "code",
   "execution_count": 44,
   "metadata": {},
   "outputs": [
    {
     "name": "stdout",
     "output_type": "stream",
     "text": [
      "Dicionario de despesas mensais:\n",
      " {'Jan': 860, 'Fev': 490, 'Mar': 1010, 'Abr': 780, 'Mai': 900, 'Jun': 630, 'Jul': 590, 'Ago': 770, 'Set': 620, 'Out': 560, 'Nov': 840, 'Dez': 360}\n"
     ]
    }
   ],
   "source": [
    "meses = ['Jan', 'Fev', 'Mar', 'Abr', 'Mai', 'Jun', 'Jul', 'Ago', 'Set', 'Out', 'Nov', 'Dez']\n",
    "despesa = [860, 490, 1010, 780, 900, 630, 590, 770, 620, 560, 840, 360]\n",
    "\n",
    "dicionario = {meses[i]: despesa[i] for i in range(0, len(meses))}\n",
    "\n",
    "print(\"Dicionario de despesas mensais:\\n\", dicionario)"
   ]
  },
  {
   "cell_type": "markdown",
   "metadata": {},
   "source": [
    "6. Uma loja possui um banco de dados com a informação de venda de cada representante e de cada ano e precisa filtrar somente os dados do ano 2022 com venda maior do que 6000. A loja forneceu uma amostra contendo apenas as colunas com os anos e os valores de venda para que você ajude a realizar a filtragem dos dados a partir de um código:\n",
    "\n",
    "    vendas = [('2023', 4093), ('2021', 4320), ('2021', 5959), ('2022', 8883), ('2023', 9859), ('2022', 5141), ('2022', 7688), ('2022', 9544), ('2023', 4794), ('2021', 7178), ('2022', 3030), ('2021', 7471), ('2022', 4226), ('2022', 8190), ('2021', 9680), ('2022', 5616)]\n",
    "\n",
    "\n",
    "    Crie uma lista usando list comprehension para filtrar os valores de 2022 e que sejam maiores que 6000."
   ]
  },
  {
   "cell_type": "code",
   "execution_count": 47,
   "metadata": {},
   "outputs": [
    {
     "name": "stdout",
     "output_type": "stream",
     "text": [
      "Vendas de 2022 acima de R$ 6000:\n",
      " [('2022', 8883), ('2022', 7688), ('2022', 9544), ('2022', 8190)]\n"
     ]
    }
   ],
   "source": [
    "vendas = [('2023', 4093), ('2021', 4320), ('2021', 5959), ('2022', 8883), ('2023', 9859), ('2022', 5141), ('2022', 7688), ('2022', 9544), ('2023', 4794), ('2021', 7178), ('2022', 3030), ('2021', 7471), ('2022', 4226), ('2022', 8190), ('2021', 9680), ('2022', 5616)]\n",
    "\n",
    "filtro_22_6k = [vendas[i] for i in range(0, len(vendas)) if vendas[i][0] == '2022' and vendas[i][1] > 6000]\n",
    "\n",
    "print(\"Vendas de 2022 acima de R$ 6000:\\n\", filtro_22_6k)"
   ]
  },
  {
   "cell_type": "markdown",
   "metadata": {},
   "source": [
    "7. Uma clínica analisa dados de pacientes e armazena o valor numérico da glicose em um banco de dados e gostaria de rotular os dados da seguinte maneira:\n",
    "\n",
    "    - Glicose igual ou inferior a 70: 'Hipoglicemia'\n",
    "    - Glicose entre 70 a 99: 'Normal'\n",
    "    - Glicose entre 100 e 125: 'Alterada'\n",
    "    - Glicose superior a 125: 'Diabetes'\n",
    "    \n",
    "    A clínica disponibilizou parte dos valores e sua tarefa é criar uma lista de tuplas usando list comprehension contendo o rótulo e o valor da glicemia em cada tupla."
   ]
  },
  {
   "cell_type": "code",
   "execution_count": null,
   "metadata": {},
   "outputs": [
    {
     "name": "stdout",
     "output_type": "stream",
     "text": [
      "[('Diabetes', 129), ('Normal', 82), ('Hipoglicemia', 60), ('Normal', 97), ('Alterada', 101), ('Hipoglicemia', 65), ('Hipoglicemia', 62), ('Diabetes', 167), ('Normal', 87), ('Hipoglicemia', 53), ('Hipoglicemia', 58), ('Normal', 92), ('Hipoglicemia', 66), ('Alterada', 120), ('Alterada', 109), ('Hipoglicemia', 62), ('Normal', 86), ('Normal', 96), ('Alterada', 103), ('Normal', 88), ('Diabetes', 155), ('Hipoglicemia', 52), ('Normal', 89), ('Normal', 73)]\n"
     ]
    }
   ],
   "source": [
    "glicemia = [129, 82, 60, 97, 101, 65, 62, 167, 87, 53, 58, 92, 66, 120, 109, 62, 86, 96, 103, 88, 155, 52, 89, 73]\n",
    "\n",
    "rotulos = [(\"Hipoglicemia\", glicose) if glicose < 70\n",
    "            else (\"Normal\", glicose) if glicose < 100\n",
    "            else (\"Alterada\", glicose) if glicose < 125\n",
    "            else (\"Diabetes\", glicose) for glicose in glicemia]\n",
    "\n",
    "print(rotulos)"
   ]
  },
  {
   "cell_type": "markdown",
   "metadata": {},
   "source": [
    "8. Um e-commerce possui as informações de id de venda, quantidade vendida e preço do produto divididos nas seguintes listas:\n",
    "\n",
    "    id = [0, 1, 2, 3, 4, 5, 6, 7, 8, 9]\n",
    "    \n",
    "    quantidade = [15, 12, 1, 15, 2, 11, 2, 12, 2, 4]\n",
    "    \n",
    "    preco = [93.0, 102.0, 18.0, 41.0, 122.0, 14.0, 71.0, 48.0, 14.0, 144.0]\n",
    "\n",
    "    O e-commerce precisa estruturar esses dados em uma tabela contendo o valor total da venda, que é obtida multiplicando a quantidade pelo preço unitário. Além disso, a tabela precisa conter um cabeçalho indicando as colunas: 'id', 'quantidade', 'preco' e 'total'.\n",
    "\n",
    "    Crie uma lista de tuplas em que cada tupla tenha id, quantidade, preço e valor total, na qual a primeira tupla é o cabeçalho da tabela.\n"
   ]
  },
  {
   "cell_type": "code",
   "execution_count": 66,
   "metadata": {},
   "outputs": [
    {
     "data": {
      "text/plain": [
       "[('id', 'quantidade', 'preco', 'total'),\n",
       " [(0, 15, 93.0, 1395.0),\n",
       "  (1, 12, 102.0, 1224.0),\n",
       "  (2, 1, 18.0, 18.0),\n",
       "  (3, 15, 41.0, 615.0),\n",
       "  (4, 2, 122.0, 244.0),\n",
       "  (5, 11, 14.0, 154.0),\n",
       "  (6, 2, 71.0, 142.0),\n",
       "  (7, 12, 48.0, 576.0),\n",
       "  (8, 2, 14.0, 28.0),\n",
       "  (9, 4, 144.0, 576.0)]]"
      ]
     },
     "execution_count": 66,
     "metadata": {},
     "output_type": "execute_result"
    }
   ],
   "source": [
    "id = [0, 1, 2, 3, 4, 5, 6, 7, 8, 9]\n",
    "quantidade = [15, 12, 1, 15, 2, 11, 2, 12, 2, 4]\n",
    "preco = [93.0, 102.0, 18.0, 41.0, 122.0, 14.0, 71.0, 48.0, 14.0, 144.0]\n",
    "colunas = (\"id\", \"quantidade\", \"preco\", \"total\")\n",
    "\n",
    "preco_total = list(map(lambda x, y: x * y, quantidade, preco))\n",
    "\n",
    "\n",
    "tabela = [colunas, list(zip(id, quantidade, preco, preco_total))]\n",
    "tabela\n"
   ]
  }
 ],
 "metadata": {
  "kernelspec": {
   "display_name": "Python 3",
   "language": "python",
   "name": "python3"
  },
  "language_info": {
   "codemirror_mode": {
    "name": "ipython",
    "version": 3
   },
   "file_extension": ".py",
   "mimetype": "text/x-python",
   "name": "python",
   "nbconvert_exporter": "python",
   "pygments_lexer": "ipython3",
   "version": "3.11.2"
  }
 },
 "nbformat": 4,
 "nbformat_minor": 2
}
