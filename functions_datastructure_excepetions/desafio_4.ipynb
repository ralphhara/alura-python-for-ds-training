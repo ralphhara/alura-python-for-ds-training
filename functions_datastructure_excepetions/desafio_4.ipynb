{
 "cells": [
  {
   "cell_type": "markdown",
   "metadata": {},
   "source": [
    "1. Faça um programa que solicite à pessoa usuária digitar dois números float e calcular a divisão entre esses números. O código deve conter um tratamento de erro, indicando o tipo de erro que foi gerado caso a divisão não seja possível de realizar.\n",
    "\n",
    "    Teste o programa com o segundo valor numérico do input igual a 0. Também teste utilizando caracteres textuais no input para checar os tipos de erro que ocorrem."
   ]
  },
  {
   "cell_type": "code",
   "execution_count": 1,
   "metadata": {},
   "outputs": [
    {
     "name": "stdout",
     "output_type": "stream",
     "text": [
      "<class 'ValueError'> Erro: could not convert string to float: ''\n"
     ]
    }
   ],
   "source": [
    "try:\n",
    "    x = float(input(\"Digite um numero float:\"))\n",
    "    y = float(input(\"Digite outro numero float:\"))\n",
    "    resultado = x / y\n",
    "except Exception as e:\n",
    "    print(type(e), f\"Erro: {e}\")"
   ]
  },
  {
   "cell_type": "markdown",
   "metadata": {},
   "source": [
    "2. Faça um programa que solicite à pessoa usuária digitar um texto que será uma chave a ser pesquisada no seguinte dicionário: idades = {'Júlia': 16, 'Carol': 23, 'Alberto': 19, 'Roberta': 17}, armazenando o resultado do valor em uma variável. O código deve conter um tratamento de erro KeyError, imprimindo a informação 'Nome não encontrado', caso ocorra o erro; e imprimir o valor caso não ocorra nenhum.\n",
    "\n",
    "    Teste o programa com um nome presente em uma das chaves do dicionário e com um que não esteja no dicionário para verificar a mensagem de erro."
   ]
  },
  {
   "cell_type": "code",
   "execution_count": 8,
   "metadata": {},
   "outputs": [
    {
     "name": "stdout",
     "output_type": "stream",
     "text": [
      "Nome Ralph não encontrado\n"
     ]
    }
   ],
   "source": [
    "idades = {'Júlia': 16, 'Carol': 23, 'Alberto': 19, 'Roberta': 17}\n",
    "\n",
    "try:\n",
    "    chave = input(\"Digite o nome que deseja procurar:\")\n",
    "    valor = idades[chave]\n",
    "except KeyError:\n",
    "    print(f\"Nome {chave} não encontrado\")\n",
    "else:\n",
    "    print(f\"{chave} tem idades {valor}.\")"
   ]
  },
  {
   "cell_type": "markdown",
   "metadata": {},
   "source": [
    "3. Crie uma função que recebe uma lista como parâmetro e converta todos os valores da lista para float. A função deve conter um tratamento de erro indicando o tipo de erro gerado e retornar a lista caso não tenha ocorrido nenhum erro. Por fim, deve ter a cláusula finally para imprimir o texto: 'Fim da execução da função'."
   ]
  },
  {
   "cell_type": "code",
   "execution_count": 14,
   "metadata": {},
   "outputs": [
    {
     "name": "stdout",
     "output_type": "stream",
     "text": [
      "Valores convertidos: [1.0, 8.5, 1.0, 5.9]\n",
      "\n",
      "Fim da execução da função.\n"
     ]
    }
   ],
   "source": [
    "def converte_float(lista):\n",
    "    try:\n",
    "        lista_float = [float(i) for i in lista]\n",
    "    except Exception as e:\n",
    "        print(type(e), f\"Erro: {e}.\")\n",
    "    else:\n",
    "        return print(f\"Valores convertidos: {lista_float}\")\n",
    "    finally:\n",
    "        print('\\nFim da execução da função.')\n",
    "\n",
    "converte_float([1, 8.5, 1, 5.9])\n"
   ]
  },
  {
   "cell_type": "markdown",
   "metadata": {},
   "source": [
    "4. Crie uma função que recebe duas listas como parâmetros e agrupe os elementos um a um das listas, formando uma lista de tuplas de 3 elementos, no qual o primeiro e segundo elemento da tupla são os valores na posição i das listas e o terceiro elemento é a soma dos valores na posição i das listas.\n",
    "\n",
    "    A função deve conter um tratamento de erro indicando o tipo de erro gerado e retornar como resultado a lista de tuplas. Caso as listas enviadas como parâmetro tenham tamanhos diferentes, a função deve retornar um IndexError com a frase: 'A quantidade de elementos em cada lista é diferente.' Dados para testar a função:\n",
    "\n",
    "    - Valores sem erro:\n",
    "\n",
    "       lista1 = [4,6,7,9,10]\n",
    "       \n",
    "       lista2 = [-4,6,8,7,9]\n",
    "\n",
    "    - Listas com tamanhos diferentes:\n",
    "\n",
    "        lista1 = [4,6,7,9,10,4]\n",
    "\n",
    "        lista2 = [-4,6,8,7,9]\n",
    "\n",
    "    - Listas com valores incoerentes:\n",
    "\n",
    "        lista1 = [4,6,7,9,'A']\n",
    "        \n",
    "        lista2 = [-4,'E',8,7,9]\n",
    "\n",
    "\n"
   ]
  },
  {
   "cell_type": "code",
   "execution_count": 18,
   "metadata": {},
   "outputs": [
    {
     "name": "stdout",
     "output_type": "stream",
     "text": [
      "<class 'TypeError'> Erro: unsupported operand type(s) for +: 'int' and 'str'\n"
     ]
    }
   ],
   "source": [
    "# Valores sem erro:\n",
    "a1 = [4,6,7,9,10]\n",
    "a2 = [-4,6,8,7,9]\n",
    "\n",
    "# Listas com tamanhos diferentes:\n",
    "b1 = [4,6,7,9,10,4]\n",
    "b2 = [-4,6,8,7,9]\n",
    "\n",
    "# Listas com valores incoerentes:\n",
    "c1 = [4,6,7,9,'A']\n",
    "c2 = [-4,'E',8,7,9]\n",
    "\n",
    "def agrupa_elementos(l1, l2):\n",
    "    try:\n",
    "        if len(l1) == len(l2):\n",
    "            lista_tuplas = [(l1[i], l2[i], l1[i] + l2[i]) for i in range(0, len(l1))]\n",
    "        else:\n",
    "            raise IndexError('A quantidade de elementos em cada lista é diferente.')\n",
    "    except Exception as e:\n",
    "        print(type(e), f\"Erro: {e}\")\n",
    "    else:\n",
    "        return lista_tuplas\n",
    "\n",
    "agrupa_elementos(c1, c2)\n"
   ]
  },
  {
   "cell_type": "markdown",
   "metadata": {},
   "source": [
    "5. Como desafio, você recebeu a tarefa de desenvolver um código que contabiliza as pontuações de estudantes de uma instituição de ensino de acordo com suas respostas num teste. Este código deve ser testado para um exemplo de 3 estudantes com uma lista de listas em que cada lista possui as respostas de 5 questões objetivas de cada estudante. Cada questão vale um ponto e as alternativas possíveis são A, B, C ou D.\n",
    "\n",
    "    Caso alguma alternativa em um dos testes não esteja entre as alternativas possíveis, você deve lançar um ValueError com a mensagem \"A alternativa [alternativa] não é uma opção de alternativa válida\". O cálculo das 3 notas só será realizado mediante as entradas com as alternativas A, B, C ou D em todos os testes. Se não for lançada a exceção, será exibida uma lista com as notas em cada teste.\n",
    "\n",
    "    Dica: Para verificar se uma entrada da lista não está entre as alternativas possíveis, use a estrutura lista[i] not in ['A','B','C','D']. Por exemplo, 1 not in [2,3,4]... Saída: True.\n",
    "\n",
    "    Os dados para o teste do código são:"
   ]
  },
  {
   "cell_type": "code",
   "execution_count": 16,
   "metadata": {},
   "outputs": [
    {
     "data": {
      "text/plain": [
       "[5, 3, 3]"
      ]
     },
     "execution_count": 16,
     "metadata": {},
     "output_type": "execute_result"
    }
   ],
   "source": [
    "gabarito = ['D', 'A', 'B', 'C', 'A']\n",
    "testes_sem_ex = [['D', 'A', 'B', 'C', 'A'], ['C', 'A', 'A', 'C', 'A'], ['D', 'B', 'A', 'C', 'A']]\n",
    "testes_com_ex = [['D', 'A', 'B', 'C', 'A'], ['C', 'A', 'A', 'E', 'A'], ['D', 'B', 'A', 'C', 'A']]\n",
    "\n",
    "\n",
    "def calc_ponto(lista_notas: list):\n",
    "    pontos = []\n",
    "    try:\n",
    "        for notas in lista_notas:\n",
    "            nota = 0\n",
    "            for i in range(0, len(notas)):\n",
    "                if notas[i] not in ['A', 'B', 'C', 'D']:\n",
    "                    raise ValueError(f\"A alternativa {notas[i]} não é uma opção de alternativa válida\")\n",
    "                elif notas[i] == gabarito[i]:\n",
    "                    nota += 1\n",
    "            pontos.append(nota)\n",
    "    except Exception as e:\n",
    "        print(e)\n",
    "    else:\n",
    "        return pontos\n",
    "    \n",
    "calc_ponto(testes_sem_ex)\n"
   ]
  },
  {
   "cell_type": "markdown",
   "metadata": {},
   "source": [
    "6. Você está trabalhando com processamento de linguagem natural (NLP) e, dessa vez, sua líder requisitou que você criasse um trecho de código que recebe uma lista com as palavras separadas de uma frase gerada pelo ChatGPT.\n",
    "\n",
    "    Você precisa criar uma função que avalia cada palavra desse texto e verificar se o tratamento para retirar os símbolos de pontuação (',' '.', '!' e '?') foi realizado. Caso contrário, será lançada uma exceção do tipo ValueError apontando o 1º caso em que foi detectado o uso de uma pontuação por meio da frase \"O texto apresenta pontuações na palavra \"[palavra]\".\". Essa demanda é voltada para a análise do padrão de frases geradas pela inteligência artificial.\n",
    "\n",
    "    Dica: Para verificar se uma ou mais das pontuações estão presentes em cada palavra, utilize a palavra chave or na condição if. Por exemplo, 'a' in 'alura' or 'b' in 'alura'… Saída: True\n",
    "\n",
    "    Os dados para o teste do código são:"
   ]
  },
  {
   "cell_type": "code",
   "execution_count": 49,
   "metadata": {},
   "outputs": [
    {
     "name": "stdout",
     "output_type": "stream",
     "text": [
      "O texto apresenta pontuações na palavra \"poderosa,\".\n"
     ]
    }
   ],
   "source": [
    "lista_tratada = ['Python', 'é', 'uma', 'linguagem', 'de', 'programação', 'poderosa', 'versátil',\n",
    "                  'e', 'fácil', 'de', 'aprender', 'utilizada', 'em', 'diversos', 'campos', 'desde',\n",
    "                  'análise', 'de', 'dados', 'até', 'inteligência', 'artificial']\n",
    "\n",
    "lista_nao_tratada = ['Python', 'é', 'uma', 'linguagem', 'de', 'programação', 'poderosa,', 'versátil',\n",
    "                  'e', 'fácil,', 'de', 'aprender', 'utilizada', 'em', 'diversos', 'campos,', 'desde',\n",
    "                  'análise', 'de', 'dados', 'até', 'inteligência', 'artificial!']\n",
    "\n",
    "def valida_text(lista_palavras):\n",
    "    try:\n",
    "        for palavra in lista_palavras:\n",
    "            if ',' in palavra or '.' in palavra or '!' in palavra or '?' in palavra:\n",
    "                raise ValueError(f'O texto apresenta pontuações na palavra \"{palavra}\".')\n",
    "    except Exception as e:\n",
    "        print(e)\n",
    "    else:\n",
    "        print(\"O tratamento para remoção dos simbolos de pontuação já foi executado.\")\n",
    "\n",
    "        \n",
    "\n",
    "valida_text(lista_nao_tratada)"
   ]
  },
  {
   "cell_type": "markdown",
   "metadata": {},
   "source": [
    "7. Você foi contratado(a) como uma pessoa cientista de dados para auxiliar um laboratório que faz experimentos sobre o comportamento de uma cultura de fungos. O laboratório precisa avaliar constantemente a razão (divisão) entre os dados de pressão e temperatura do ambiente controlado recolhidos durante a experimentação para definir a melhor condição para os testes.\n",
    "\n",
    "    Para cumprir com a demanda, você precisa criar uma função divide_colunas que recebe os dados das colunas de pressão e temperatura (que vem no formato de listas) e gerar uma nova coluna com o resultado da divisão. Os parâmetros da função são as duas listas e você deve tratar dentro dela ao menos 2 tipos de exceções:\n",
    "\n",
    "    - Verificar se as listas têm o mesmo tamanho (ValueError)\n",
    "    - Verificar se existe alguma divisão por zero (ZeroDivisionError)\n",
    "    \n",
    "    Para testar a função, vamos realizar a divisão entre duas listas de dados coletados no experimento, com os valores de pressão e temperatura do ambiente controlado.\n",
    "\n",
    "    Dica: Você pode usar zip() para parear os dados da lista_1 com a lista_2. Crie uma estrutura try-except que caso uma das exceções sejam lançadas, podemos ver o tipo de erro na saída.\n",
    "    \n",
    "    Como teste, use os seguintes dados:"
   ]
  },
  {
   "cell_type": "code",
   "execution_count": 67,
   "metadata": {},
   "outputs": [
    {
     "name": "stdout",
     "output_type": "stream",
     "text": [
      "As listas têm tamanhos diferente.\n"
     ]
    }
   ],
   "source": [
    "def divide_colunas(p: list, t:list):\n",
    "    razao = []\n",
    "    try:\n",
    "        if len(p) == len(t):\n",
    "            razao = [round((p[i]/t[i]),2) for i in range(0, len(p))]\n",
    "        else:\n",
    "            raise ValueError(\"As listas têm tamanhos diferente.\")\n",
    "    except ZeroDivisionError as e:\n",
    "        print(e, \": A lista não deve conter 0s\")\n",
    "    except ValueError as e:\n",
    "        print(e)\n",
    "    else:\n",
    "        print(f\"Razao = {razao}\")\n",
    "\n",
    "pressoes = [100, 120, 140, 160]\n",
    "temperaturas = [20, 25, 30, 35, 40]\n",
    "\n",
    "divide_colunas(pressoes, temperaturas)"
   ]
  }
 ],
 "metadata": {
  "kernelspec": {
   "display_name": "Python 3",
   "language": "python",
   "name": "python3"
  },
  "language_info": {
   "codemirror_mode": {
    "name": "ipython",
    "version": 3
   },
   "file_extension": ".py",
   "mimetype": "text/x-python",
   "name": "python",
   "nbconvert_exporter": "python",
   "pygments_lexer": "ipython3",
   "version": "3.11.3"
  }
 },
 "nbformat": 4,
 "nbformat_minor": 2
}
