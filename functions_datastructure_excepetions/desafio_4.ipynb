{
 "cells": [
  {
   "cell_type": "markdown",
   "metadata": {},
   "source": [
    "1. Faça um programa que solicite à pessoa usuária digitar dois números float e calcular a divisão entre esses números. O código deve conter um tratamento de erro, indicando o tipo de erro que foi gerado caso a divisão não seja possível de realizar.\n",
    "\n",
    "    Teste o programa com o segundo valor numérico do input igual a 0. Também teste utilizando caracteres textuais no input para checar os tipos de erro que ocorrem."
   ]
  },
  {
   "cell_type": "code",
   "execution_count": 1,
   "metadata": {},
   "outputs": [
    {
     "name": "stdout",
     "output_type": "stream",
     "text": [
      "<class 'ValueError'> Erro: could not convert string to float: ''\n"
     ]
    }
   ],
   "source": [
    "try:\n",
    "    x = float(input(\"Digite um numero float:\"))\n",
    "    y = float(input(\"Digite outro numero float:\"))\n",
    "    resultado = x / y\n",
    "except Exception as e:\n",
    "    print(type(e), f\"Erro: {e}\")"
   ]
  },
  {
   "cell_type": "markdown",
   "metadata": {},
   "source": [
    "2. Faça um programa que solicite à pessoa usuária digitar um texto que será uma chave a ser pesquisada no seguinte dicionário: idades = {'Júlia': 16, 'Carol': 23, 'Alberto': 19, 'Roberta': 17}, armazenando o resultado do valor em uma variável. O código deve conter um tratamento de erro KeyError, imprimindo a informação 'Nome não encontrado', caso ocorra o erro; e imprimir o valor caso não ocorra nenhum.\n",
    "\n",
    "    Teste o programa com um nome presente em uma das chaves do dicionário e com um que não esteja no dicionário para verificar a mensagem de erro."
   ]
  },
  {
   "cell_type": "code",
   "execution_count": 15,
   "metadata": {},
   "outputs": [
    {
     "name": "stdout",
     "output_type": "stream",
     "text": [
      "Nome não encontrado\n"
     ]
    }
   ],
   "source": [
    "idades = {'Júlia': 16, 'Carol': 23, 'Alberto': 19, 'Roberta': 17}\n",
    "\n",
    "try:\n",
    "    chave = input(\"Digite o nome que deseja procurar:\")\n",
    "    print(f\"{chave} tem idades {idades[chave]}.\")\n",
    "except KeyError:\n",
    "    print(\"Nome não encontrado\")"
   ]
  },
  {
   "cell_type": "markdown",
   "metadata": {},
   "source": [
    "3. Crie uma função que recebe uma lista como parâmetro e converta todos os valores da lista para float. A função deve conter um tratamento de erro indicando o tipo de erro gerado e retornar a lista caso não tenha ocorrido nenhum erro. Por fim, deve ter a cláusula finally para imprimir o texto: 'Fim da execução da função'."
   ]
  },
  {
   "cell_type": "code",
   "execution_count": 22,
   "metadata": {},
   "outputs": [
    {
     "name": "stdout",
     "output_type": "stream",
     "text": [
      "<class 'ValueError'> Erro: could not convert string to float: 'Ralph'.\n"
     ]
    }
   ],
   "source": [
    "def converte_float(lista):\n",
    "    try:\n",
    "        lista_float = [float(i) for i in lista]\n",
    "        print(f\"Valores convertidos: {lista_float}\")\n",
    "    except Exception as e:\n",
    "        print(type(e), f\"Erro: {e}.\")\n",
    "\n",
    "converte_float([1, 8.5, 1, 5.9, \"Ralph\"])\n"
   ]
  },
  {
   "cell_type": "markdown",
   "metadata": {},
   "source": [
    "4. Crie uma função que recebe duas listas como parâmetros e agrupe os elementos um a um das listas, formando uma lista de tuplas de 3 elementos, no qual o primeiro e segundo elemento da tupla são os valores na posição i das listas e o terceiro elemento é a soma dos valores na posição i das listas.\n",
    "\n",
    "    A função deve conter um tratamento de erro indicando o tipo de erro gerado e retornar como resultado a lista de tuplas. Caso as listas enviadas como parâmetro tenham tamanhos diferentes, a função deve retornar um IndexError com a frase: 'A quantidade de elementos em cada lista é diferente.' Dados para testar a função:\n",
    "\n",
    "    - Valores sem erro:\n",
    "\n",
    "       lista1 = [4,6,7,9,10]\n",
    "       \n",
    "       lista2 = [-4,6,8,7,9]\n",
    "\n",
    "    - Listas com tamanhos diferentes:\n",
    "\n",
    "        lista1 = [4,6,7,9,10,4]\n",
    "\n",
    "        lista2 = [-4,6,8,7,9]\n",
    "\n",
    "    - Listas com valores incoerentes:\n",
    "\n",
    "        lista1 = [4,6,7,9,'A']\n",
    "        \n",
    "        lista2 = [-4,'E',8,7,9]\n",
    "\n",
    "\n"
   ]
  },
  {
   "cell_type": "code",
   "execution_count": 52,
   "metadata": {},
   "outputs": [
    {
     "name": "stdout",
     "output_type": "stream",
     "text": [
      "<class 'TypeError'> Erro: unsupported operand type(s) for +: 'int' and 'str'\n"
     ]
    }
   ],
   "source": [
    "# Valores sem erro:\n",
    "a1 = [4,6,7,9,10]\n",
    "a2 = [-4,6,8,7,9]\n",
    "\n",
    "# Listas com tamanhos diferentes:\n",
    "b1 = [4,6,7,9,10,4]\n",
    "b2 = [-4,6,8,7,9]\n",
    "\n",
    "# Listas com valores incoerentes:\n",
    "c1 = [4,6,7,9,'A']\n",
    "c2 = [-4,'E',8,7,9]\n",
    "\n",
    "def agrupa_elementos(l1, l2):\n",
    "    try:\n",
    "        soma = list(map(lambda x, y: x + y, l1, l2))\n",
    "        lista_tuplas = list(zip(l1,l2, soma, strict=True))\n",
    "        print(lista_tuplas)\n",
    "    except Exception as e:\n",
    "        print(type(e), f\"Erro: {e}\")\n",
    "    return\n",
    "\n",
    "agrupa_elementos(c1, c2)\n"
   ]
  }
 ],
 "metadata": {
  "kernelspec": {
   "display_name": "Python 3",
   "language": "python",
   "name": "python3"
  },
  "language_info": {
   "codemirror_mode": {
    "name": "ipython",
    "version": 3
   },
   "file_extension": ".py",
   "mimetype": "text/x-python",
   "name": "python",
   "nbconvert_exporter": "python",
   "pygments_lexer": "ipython3",
   "version": "3.11.2"
  }
 },
 "nbformat": 4,
 "nbformat_minor": 2
}
