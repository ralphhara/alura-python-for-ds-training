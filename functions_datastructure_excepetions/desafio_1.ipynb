{
  "nbformat": 4,
  "nbformat_minor": 0,
  "metadata": {
    "colab": {
      "provenance": [],
      "authorship_tag": "ABX9TyPjwdSKguY2qs1tQSXs71Ha"
    },
    "kernelspec": {
      "name": "python3",
      "display_name": "Python 3"
    },
    "language_info": {
      "name": "python"
    }
  },
  "cells": [
    {
      "cell_type": "markdown",
      "source": [
        "Python para Dara Science: trabalhando com funções, estruturas de dados e exceções\n",
        "\n",
        "Desafio 1"
      ],
      "metadata": {
        "id": "2Gv9fFE-gKrV"
      }
    },
    {
      "cell_type": "markdown",
      "source": [
        "1. Escreva um código para instalar a versão 3.7.1 da biblioteca matplotlib."
      ],
      "metadata": {
        "id": "ISaawOUK-JWq"
      }
    },
    {
      "cell_type": "code",
      "execution_count": null,
      "metadata": {
        "colab": {
          "base_uri": "https://localhost:8080/"
        },
        "id": "Re5y2fBwf3ul",
        "outputId": "6a53b66e-a2ce-4fd0-cf8f-19b0d3d76d0a"
      },
      "outputs": [
        {
          "output_type": "stream",
          "name": "stdout",
          "text": [
            "Requirement already satisfied: matplotlib==3.7.1 in /usr/local/lib/python3.10/dist-packages (3.7.1)\n",
            "Requirement already satisfied: contourpy>=1.0.1 in /usr/local/lib/python3.10/dist-packages (from matplotlib==3.7.1) (1.2.0)\n",
            "Requirement already satisfied: cycler>=0.10 in /usr/local/lib/python3.10/dist-packages (from matplotlib==3.7.1) (0.12.1)\n",
            "Requirement already satisfied: fonttools>=4.22.0 in /usr/local/lib/python3.10/dist-packages (from matplotlib==3.7.1) (4.47.2)\n",
            "Requirement already satisfied: kiwisolver>=1.0.1 in /usr/local/lib/python3.10/dist-packages (from matplotlib==3.7.1) (1.4.5)\n",
            "Requirement already satisfied: numpy>=1.20 in /usr/local/lib/python3.10/dist-packages (from matplotlib==3.7.1) (1.23.5)\n",
            "Requirement already satisfied: packaging>=20.0 in /usr/local/lib/python3.10/dist-packages (from matplotlib==3.7.1) (23.2)\n",
            "Requirement already satisfied: pillow>=6.2.0 in /usr/local/lib/python3.10/dist-packages (from matplotlib==3.7.1) (9.4.0)\n",
            "Requirement already satisfied: pyparsing>=2.3.1 in /usr/local/lib/python3.10/dist-packages (from matplotlib==3.7.1) (3.1.1)\n",
            "Requirement already satisfied: python-dateutil>=2.7 in /usr/local/lib/python3.10/dist-packages (from matplotlib==3.7.1) (2.8.2)\n",
            "Requirement already satisfied: six>=1.5 in /usr/local/lib/python3.10/dist-packages (from python-dateutil>=2.7->matplotlib==3.7.1) (1.16.0)\n"
          ]
        }
      ],
      "source": [
        "! pip install matplotlib==3.7.1"
      ]
    },
    {
      "cell_type": "markdown",
      "source": [
        "2. Escreva um código para importar a biblioteca numpy com o alias np."
      ],
      "metadata": {
        "id": "Qyjeu4Hj-MEY"
      }
    },
    {
      "cell_type": "code",
      "source": [
        "import numpy as np"
      ],
      "metadata": {
        "id": "Dgm61jaSjX4Q"
      },
      "execution_count": null,
      "outputs": []
    },
    {
      "cell_type": "markdown",
      "source": [
        "3. Crie um programa que leia a seguinte lista de números e escolha um número desta aleatoriamente."
      ],
      "metadata": {
        "id": "sXG4uCCg-U3E"
      }
    },
    {
      "cell_type": "code",
      "source": [
        "from random import choice\n",
        "\n",
        "lista = [8, 12, 54, 23, 43, 1, 90, 87, 105, 77]\n",
        "lista"
      ],
      "metadata": {
        "id": "MjC09YE8ji44",
        "colab": {
          "base_uri": "https://localhost:8080/"
        },
        "outputId": "c035f66c-e0a5-4143-b5ad-7f48f49adc3a"
      },
      "execution_count": null,
      "outputs": [
        {
          "output_type": "execute_result",
          "data": {
            "text/plain": [
              "[8, 12, 54, 23, 43, 1, 90, 87, 105, 77]"
            ]
          },
          "metadata": {},
          "execution_count": 8
        }
      ]
    },
    {
      "cell_type": "code",
      "source": [
        "help(choice)"
      ],
      "metadata": {
        "colab": {
          "base_uri": "https://localhost:8080/"
        },
        "id": "XQdFNsLFjtPP",
        "outputId": "363d61bc-9659-405a-beaa-8c75239cae16"
      },
      "execution_count": null,
      "outputs": [
        {
          "output_type": "stream",
          "name": "stdout",
          "text": [
            "Help on method choice in module random:\n",
            "\n",
            "choice(seq) method of random.Random instance\n",
            "    Choose a random element from a non-empty sequence.\n",
            "\n"
          ]
        }
      ]
    },
    {
      "cell_type": "code",
      "source": [
        "print(\"Numero aleatorio escolhido:\", choice(lista))"
      ],
      "metadata": {
        "colab": {
          "base_uri": "https://localhost:8080/"
        },
        "id": "Utpjjqe2_KG5",
        "outputId": "f259e7f3-1b37-4673-b986-e8ddded16f71"
      },
      "execution_count": null,
      "outputs": [
        {
          "output_type": "stream",
          "name": "stdout",
          "text": [
            "Numero aleatorio escolhido: 12\n"
          ]
        }
      ]
    },
    {
      "cell_type": "markdown",
      "source": [
        " 4. Crie um programa que sorteia, aleatoriamente, um número inteiro menor que 100."
      ],
      "metadata": {
        "id": "Dxrd5OHF_gN-"
      }
    },
    {
      "cell_type": "code",
      "source": [
        "from random import randrange\n",
        "\n",
        "help(randrange)"
      ],
      "metadata": {
        "colab": {
          "base_uri": "https://localhost:8080/"
        },
        "id": "TWejXb82_YTD",
        "outputId": "ff194551-01ea-44bf-f69a-340819b860d2"
      },
      "execution_count": null,
      "outputs": [
        {
          "output_type": "stream",
          "name": "stdout",
          "text": [
            "Help on method randrange in module random:\n",
            "\n",
            "randrange(start, stop=None, step=1) method of random.Random instance\n",
            "    Choose a random item from range(start, stop[, step]).\n",
            "    \n",
            "    This fixes the problem with randint() which includes the\n",
            "    endpoint; in Python this is usually not what you want.\n",
            "\n"
          ]
        }
      ]
    },
    {
      "cell_type": "code",
      "source": [
        "print(\"Numero aleatorio sorteado:\", randrange(100))"
      ],
      "metadata": {
        "colab": {
          "base_uri": "https://localhost:8080/"
        },
        "id": "PAnebf6qAGKf",
        "outputId": "b7fea53d-9f95-4b50-c5aa-5bb9be2fef31"
      },
      "execution_count": null,
      "outputs": [
        {
          "output_type": "stream",
          "name": "stdout",
          "text": [
            "Numero aleatorio sorteado: 89\n"
          ]
        }
      ]
    },
    {
      "cell_type": "markdown",
      "source": [
        "5. Crie um programa que solicite à pessoa usuária digitar dois números inteiros e calcular a potência do 1º número elevado ao 2º."
      ],
      "metadata": {
        "id": "th86Nd8jAy3D"
      }
    },
    {
      "cell_type": "code",
      "source": [
        "import math\n",
        "\n",
        "help(pow)"
      ],
      "metadata": {
        "colab": {
          "base_uri": "https://localhost:8080/"
        },
        "id": "CKgJotpuA0ub",
        "outputId": "6c16ad7f-6e3b-4448-ad1d-34e76e10bf94"
      },
      "execution_count": null,
      "outputs": [
        {
          "output_type": "stream",
          "name": "stdout",
          "text": [
            "Help on built-in function pow in module builtins:\n",
            "\n",
            "pow(base, exp, mod=None)\n",
            "    Equivalent to base**exp with 2 arguments or base**exp % mod with 3 arguments\n",
            "    \n",
            "    Some types, such as ints, are able to use a more efficient algorithm when\n",
            "    invoked using the three argument form.\n",
            "\n"
          ]
        }
      ]
    },
    {
      "cell_type": "code",
      "source": [
        "x = int(input(\"Digite um numero inteiro para \\\"X\\\": \"))\n",
        "y = int(input(\"Digite um numero inteiro para \\\"Y\\\": \"))\n",
        "\n",
        "print(\"\\nPotencia de \\\"X\\\" elevado a \\\"Y\\\":\", pow(x, y))"
      ],
      "metadata": {
        "colab": {
          "base_uri": "https://localhost:8080/"
        },
        "id": "CcS4-MjEBY1o",
        "outputId": "95841bbe-23aa-42ea-ee7f-8b833d4553ff"
      },
      "execution_count": null,
      "outputs": [
        {
          "output_type": "stream",
          "name": "stdout",
          "text": [
            "Digite um numero inteiro para \"X\": 2\n",
            "Digite um numero inteiro para \"Y\": 2\n",
            "\n",
            "Potencia de \"X\" elevado a \"Y\": 4\n"
          ]
        }
      ]
    },
    {
      "cell_type": "markdown",
      "source": [
        "6. Um programa deve ser escrito para sortear uma pessoa seguidora de uma rede social para ganhar um prêmio. A lista de participantes é numerada e devemos escolher aleatoriamente um número de acordo com a quantidade de participantes. Peça à pessoa usuária para fornecer o número de participantes do sorteio e devolva para ela o número sorteado."
      ],
      "metadata": {
        "id": "OwaIwqE6DKCy"
      }
    },
    {
      "cell_type": "code",
      "source": [
        "print(\"Vamos realizar o sorteio de um seguidor da nossa rede social.\\n\")\n",
        "participantes = int(input(\"Quantas pessoas participarão do sorteio: \"))\n",
        "print(f\"\\nVoce digitou {participantes} participantes\")"
      ],
      "metadata": {
        "colab": {
          "base_uri": "https://localhost:8080/"
        },
        "id": "2Yk1imjUDMfL",
        "outputId": "810f91c1-82c7-4049-ffb4-056e956d6c7a"
      },
      "execution_count": null,
      "outputs": [
        {
          "output_type": "stream",
          "name": "stdout",
          "text": [
            "Vamos realizar o sorteio de um seguidor da nossa rede social.\n",
            "\n",
            "Quantas pessoas participarão do sorteio: 322\n",
            "\n",
            "Voce digitou 322 participantes\n"
          ]
        }
      ]
    },
    {
      "cell_type": "markdown",
      "source": [
        "7. Você recebeu uma demanda para gerar números de token para acessar o aplicativo de uma empresa. O token precisa ser par e variar de 1000 até 9998. Escreva um código que solicita à pessoa usuária o seu nome e exibe uma mensagem junto a esse token gerado aleatoriamente."
      ],
      "metadata": {
        "id": "sGBYt6GPERPb"
      }
    },
    {
      "cell_type": "code",
      "source": [
        "from random import randrange\n",
        "\n",
        "print(\"Gerador de token\\n\")\n",
        "nome = input(\"Digite seu primeiro nome: \")\n",
        "\n",
        "token = randrange(1000, 9999, 2)\n",
        "\n",
        "print(f\"Ola {nome}, seu token de acesso é {token}. Seja bem-vindo(a)!\")"
      ],
      "metadata": {
        "colab": {
          "base_uri": "https://localhost:8080/"
        },
        "id": "TqB7XRS0ER6i",
        "outputId": "bbf38bc0-019c-4c05-9cfc-3e2f815e1ddd"
      },
      "execution_count": null,
      "outputs": [
        {
          "output_type": "stream",
          "name": "stdout",
          "text": [
            "Gerador de token\n",
            "\n",
            "Digite seu primeiro nome: Ralph\n",
            "Ola Ralph, seu token de acesso é 9670. Seja bem-vindo(a)!\n"
          ]
        }
      ]
    },
    {
      "cell_type": "markdown",
      "source": [
        "8. Para diversificar e atrair novos(as) clientes, uma lanchonete criou um item misterioso em seu cardápio chamado \"salada de frutas surpresa\". Neste item, são escolhidas aleatoriamente 3 frutas de uma lista de 12 para compor a salada de frutas da pessoa cliente. Crie o código que faça essa seleção aleatória de acordo com a lista abaixo:"
      ],
      "metadata": {
        "id": "F426E8svFuYl"
      }
    },
    {
      "cell_type": "code",
      "source": [
        "from random import sample\n",
        "\n",
        "help(sample)"
      ],
      "metadata": {
        "id": "Lkm9OPcDFvWe",
        "colab": {
          "base_uri": "https://localhost:8080/"
        },
        "outputId": "7c3b000d-77a3-49ad-a9da-fab7e2345505"
      },
      "execution_count": null,
      "outputs": [
        {
          "output_type": "stream",
          "name": "stdout",
          "text": [
            "Help on method sample in module random:\n",
            "\n",
            "sample(population, k, *, counts=None) method of random.Random instance\n",
            "    Chooses k unique random elements from a population sequence or set.\n",
            "    \n",
            "    Returns a new list containing elements from the population while\n",
            "    leaving the original population unchanged.  The resulting list is\n",
            "    in selection order so that all sub-slices will also be valid random\n",
            "    samples.  This allows raffle winners (the sample) to be partitioned\n",
            "    into grand prize and second place winners (the subslices).\n",
            "    \n",
            "    Members of the population need not be hashable or unique.  If the\n",
            "    population contains repeats, then each occurrence is a possible\n",
            "    selection in the sample.\n",
            "    \n",
            "    Repeated elements can be specified one at a time or with the optional\n",
            "    counts parameter.  For example:\n",
            "    \n",
            "        sample(['red', 'blue'], counts=[4, 2], k=5)\n",
            "    \n",
            "    is equivalent to:\n",
            "    \n",
            "        sample(['red', 'red', 'red', 'red', 'blue', 'blue'], k=5)\n",
            "    \n",
            "    To choose a sample from a range of integers, use range() for the\n",
            "    population argument.  This is especially fast and space efficient\n",
            "    for sampling from a large population:\n",
            "    \n",
            "        sample(range(10000000), 60)\n",
            "\n"
          ]
        }
      ]
    },
    {
      "cell_type": "code",
      "source": [
        "frutas = [\"maçã\", \"banana\", \"uva\", \"pêra\",\n",
        "          \"manga\", \"coco\", \"melancia\", \"mamão\",\n",
        "          \"laranja\", \"abacaxi\", \"kiwi\", \"ameixa\"]\n",
        "\n",
        "combo = sample(frutas, 3)\n",
        "\n",
        "print(\"Salada de Frutas Surpresa\\n\")\n",
        "print(f\"Sua salada terá: {combo}\")"
      ],
      "metadata": {
        "colab": {
          "base_uri": "https://localhost:8080/"
        },
        "id": "VEmMcgBINdxq",
        "outputId": "27392af1-7c32-46e0-dd07-0bda1e8bbebd"
      },
      "execution_count": null,
      "outputs": [
        {
          "output_type": "stream",
          "name": "stdout",
          "text": [
            "Salada de Frutas Surpresa\n",
            "\n",
            "Sua salada terá: ['laranja', 'mamão', 'manga']\n"
          ]
        }
      ]
    },
    {
      "cell_type": "markdown",
      "source": [
        "9. Você recebeu um desafio de calcular a raiz quadrada de uma lista de números, identificando quais resultaram em um número inteiro. A lista é a seguinte:\n",
        "\n",
        "  numeros = [2, 8, 15, 23, 91, 112, 256]\n",
        "\n",
        "  No final, informe quais números possuem raízes inteiras e seus respectivos valores."
      ],
      "metadata": {
        "id": "-8EdGnQOPfli"
      }
    },
    {
      "cell_type": "code",
      "source": [
        "from math import *\n",
        "\n",
        "numeros = [2, 8, 15, 23, 91, 112, 256]\n",
        "\n",
        "raiz = 0\n",
        "\n",
        "for num in numeros:\n",
        "  raiz = sqrt(num)\n",
        "  if raiz // 1 == raiz:\n",
        "    inteiro = 'é'\n",
        "  else:\n",
        "    inteiro = 'não é'\n",
        "  print(f\"A raiz quadrada de {num} é {raiz}. O resultado {inteiro} um numero inteiro\")\n",
        "\n"
      ],
      "metadata": {
        "colab": {
          "base_uri": "https://localhost:8080/"
        },
        "id": "kMcI5r6eNhve",
        "outputId": "ccf8ecba-c6fd-415d-ce86-395c87309112"
      },
      "execution_count": null,
      "outputs": [
        {
          "output_type": "stream",
          "name": "stdout",
          "text": [
            "A raiz quadrada de 2 é 1.4142135623730951. O resultado não é um numero inteiro\n",
            "A raiz quadrada de 8 é 2.8284271247461903. O resultado não é um numero inteiro\n",
            "A raiz quadrada de 15 é 3.872983346207417. O resultado não é um numero inteiro\n",
            "A raiz quadrada de 23 é 4.795831523312719. O resultado não é um numero inteiro\n",
            "A raiz quadrada de 91 é 9.539392014169456. O resultado não é um numero inteiro\n",
            "A raiz quadrada de 112 é 10.583005244258363. O resultado não é um numero inteiro\n",
            "A raiz quadrada de 256 é 16.0. O resultado é um numero inteiro\n"
          ]
        }
      ]
    },
    {
      "cell_type": "markdown",
      "source": [],
      "metadata": {
        "id": "zfo4z1bYZtZK"
      }
    },
    {
      "cell_type": "markdown",
      "source": [
        "10. Faça um programa para uma loja que vende grama para jardins. Essa loja trabalha com jardins circulares e o preço do metro quadrado da grama é de R$ 25,00. Peça à pessoa usuária o raio da área circular e devolva o valor em reais do quanto precisará pagar."
      ],
      "metadata": {
        "id": "rYjF3k3cZtBy"
      }
    },
    {
      "cell_type": "code",
      "source": [
        "import math\n",
        "\n",
        "raio = float(input(\"Qual o raio da area circular: \"))\n",
        "area = pi * pow(raio, 2)\n",
        "preco = area * 25\n",
        "\n",
        "print(f\"\\nPara esse raio você precisará cobrir uma area de {area:.2f} metros em grama\")\n",
        "print(f\"O valor total da grama é de: R${preco:.2f}\")"
      ],
      "metadata": {
        "colab": {
          "base_uri": "https://localhost:8080/"
        },
        "id": "2uUyktPcaC1c",
        "outputId": "d2fd1d22-1164-4a0b-f21a-0c4cb227e7d3"
      },
      "execution_count": null,
      "outputs": [
        {
          "output_type": "stream",
          "name": "stdout",
          "text": [
            "Qual o raio da area circular: 5\n",
            "\n",
            "Para esse raio você precisará cobrir uma area de 78.54 metros em grama\n",
            "O valor total da grama é de: R$1963.50\n"
          ]
        }
      ]
    }
  ]
}